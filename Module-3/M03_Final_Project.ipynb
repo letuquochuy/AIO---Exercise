{
  "cells": [
    {
      "cell_type": "code",
      "execution_count": 2,
      "metadata": {
        "colab": {
          "base_uri": "https://localhost:8080/",
          "height": 564
        },
        "id": "DDYwkQUkRFrQ",
        "outputId": "2f41cc76-e65c-42c1-e5b7-29fc43add0da"
      },
      "outputs": [
        {
          "data": {
            "image/png": "[encoded data removed]",
            "text/plain": [
              "<Figure size 800x600 with 1 Axes>"
            ]
          },
          "metadata": {},
          "output_type": "display_data"
        }
      ],
      "source": [
        "import numpy as np\n",
        "import pandas as pd\n",
        "from matplotlib import pyplot as plt\n",
        "import seaborn as sns\n",
        "\n",
        "df = pd.read_csv('cleveland.csv', header=None)\n",
        "df.columns = ['age', 'sex', 'cp', 'trestbps', 'chol', 'fbs', 'restecg', 'thalach', 'exang', 'oldpeak', 'slope', 'ca', 'thal', 'target']\n",
        "\n",
        "df['target'] = df['target'].map({0: 0, 1: 1, 2: 1, 3: 1, 4: 1})\n",
        "\n",
        "df['thal'] = df['thal'].fillna(df['thal'].mean())\n",
        "df['ca'] = df['ca'].fillna(df['ca'].mean())\n",
        "\n",
        "plt.figure(figsize=(8, 6))\n",
        "sns.histplot(data=df, x='age', hue='target', multiple='dodge', bins=15*10)\n",
        "plt.title('Variation of Age for each target class')\n",
        "plt.xlabel('age')\n",
        "plt.ylabel('count')\n",
        "plt.xticks(range(29, 150, 10))\n",
        "\n",
        "plt.show()"
      ]
    },
    {
      "cell_type": "code",
      "execution_count": 3,
      "metadata": {
        "colab": {
          "base_uri": "https://localhost:8080/"
        },
        "id": "7D0PDXVYRX1K",
        "outputId": "b31c9193-8060-4226-939a-26ecb82e11e5"
      },
      "outputs": [
        {
          "name": "stdout",
          "output_type": "stream",
          "text": [
            "Accuracy for training set for KNeighborsClassifier = 0.76\n",
            "Accuracy for test set for KNeighborsClassifier = 0.69\n"
          ]
        }
      ],
      "source": [
        "from sklearn.model_selection import train_test_split\n",
        "from sklearn.neighbors import KNeighborsClassifier\n",
        "from sklearn.metrics import confusion_matrix\n",
        "\n",
        "X = df.iloc[:, :-1].values\n",
        "y = df.iloc[:, -1].values\n",
        "\n",
        "X_train, X_test, y_train, y_test = train_test_split(X, y, test_size=0.2, random_state=42)\n",
        "\n",
        "knn = KNeighborsClassifier(n_neighbors=5, weights='uniform', algorithm='auto', leaf_size=30, p=2, metric='minkowski')\n",
        "knn.fit(X_train, y_train)\n",
        "y_train_pred = knn.predict(X_train)\n",
        "y_test_pred = knn.predict(X_test)\n",
        "\n",
        "cm_train = confusion_matrix(y_train, y_train_pred)\n",
        "cm_test = confusion_matrix(y_test, y_test_pred)\n",
        "\n",
        "accuracy_for_train = np.round((cm_train[0][0] + cm_train[1][1]) / len(y_train), 2)\n",
        "accuracy_for_test = np.round((cm_test[0][0] + cm_test[1][1]) / len(y_test), 2)\n",
        "print('Accuracy for training set for KNeighborsClassifier = {}'.format(accuracy_for_train))\n",
        "print('Accuracy for test set for KNeighborsClassifier = {}'.format(accuracy_for_test))\n"
      ]
    },
    {
      "cell_type": "code",
      "execution_count": 4,
      "metadata": {
        "colab": {
          "base_uri": "https://localhost:8080/"
        },
        "id": "VXBzn5lRXlYv",
        "outputId": "a9bd6351-5da4-4c12-9d1e-badc83011a44"
      },
      "outputs": [
        {
          "name": "stdout",
          "output_type": "stream",
          "text": [
            "Accuracy for training set for SVM = 0.66\n",
            "Accuracy for test set for SVM = 0.67\n"
          ]
        }
      ],
      "source": [
        "from sklearn.svm import SVC\n",
        "\n",
        "X = df.iloc[:, :-1].values\n",
        "y = df.iloc[:, -1].values\n",
        "\n",
        "X_train, X_test, y_train, y_test = train_test_split(X, y, test_size=0.2, random_state=42)\n",
        "\n",
        "svm = SVC(kernel='rbf', random_state=42)\n",
        "svm.fit(X_train, y_train)\n",
        "y_train_pred = svm.predict(X_train)\n",
        "y_test_pred = svm.predict(X_test)\n",
        "\n",
        "cm_train = confusion_matrix(y_train, y_train_pred)\n",
        "cm_test = confusion_matrix(y_test, y_test_pred)\n",
        "\n",
        "accuracy_for_train = np.round((cm_train[0][0] + cm_train[1][1]) / len(y_train), 2)\n",
        "accuracy_for_test = np.round((cm_test[0][0] + cm_test[1][1]) / len(y_test), 2)\n",
        "print('Accuracy for training set for SVM = {}'.format(accuracy_for_train))\n",
        "print('Accuracy for test set for SVM = {}'.format(accuracy_for_test))"
      ]
    },
    {
      "cell_type": "code",
      "execution_count": 5,
      "metadata": {
        "colab": {
          "base_uri": "https://localhost:8080/"
        },
        "id": "7MQTrYLzYOn6",
        "outputId": "25663540-d7e6-41ed-89bb-01a6e821f7a7"
      },
      "outputs": [
        {
          "name": "stdout",
          "output_type": "stream",
          "text": [
            "Accuracy for training set for GaussianNB = 0.85\n",
            "Accuracy for test set for GaussianNB = 0.84\n"
          ]
        }
      ],
      "source": [
        "from sklearn.naive_bayes import GaussianNB\n",
        "\n",
        "X = df.iloc[:, :-1].values\n",
        "y = df.iloc[:, -1].values\n",
        "\n",
        "X_train, X_test, y_train, y_test = train_test_split(X, y, test_size=0.2, random_state=42)\n",
        "\n",
        "naive_bayes = GaussianNB()\n",
        "naive_bayes.fit(X_train, y_train)\n",
        "y_train_pred = naive_bayes.predict(X_train)\n",
        "y_test_pred = naive_bayes.predict(X_test)\n",
        "\n",
        "cm_train = confusion_matrix(y_train, y_train_pred)\n",
        "cm_test = confusion_matrix(y_test, y_test_pred)\n",
        "\n",
        "accuracy_for_train = np.round((cm_train[0][0] + cm_train[1][1]) / len(y_train), 2)\n",
        "accuracy_for_test = np.round((cm_test[0][0] + cm_test[1][1]) / len(y_test), 2)\n",
        "print('Accuracy for training set for GaussianNB = {}'.format(accuracy_for_train))\n",
        "print('Accuracy for test set for GaussianNB = {}'.format(accuracy_for_test))"
      ]
    },
    {
      "cell_type": "code",
      "execution_count": 6,
      "metadata": {
        "colab": {
          "base_uri": "https://localhost:8080/"
        },
        "id": "2UT9I10xYlZ2",
        "outputId": "4a77b173-c886-4569-d7e0-7210266bf4ec"
      },
      "outputs": [
        {
          "name": "stdout",
          "output_type": "stream",
          "text": [
            "Accuracy for training set for DecisionTreeClassifier = 1.0\n",
            "Accuracy for test set for DecisionTreeClassifier = 0.75\n"
          ]
        }
      ],
      "source": [
        "from sklearn.tree import DecisionTreeClassifier\n",
        "\n",
        "X = df.iloc[:, :-1].values\n",
        "y = df.iloc[:, -1].values\n",
        "\n",
        "X_train, X_test, y_train, y_test = train_test_split(X, y, test_size=0.2, random_state=42)\n",
        "\n",
        "decision_tree = DecisionTreeClassifier(criterion='gini', max_depth=10, min_samples_split=2)\n",
        "decision_tree.fit(X_train, y_train)\n",
        "y_train_pred = decision_tree.predict(X_train)\n",
        "y_test_pred = decision_tree.predict(X_test)\n",
        "\n",
        "cm_train = confusion_matrix(y_train, y_train_pred)\n",
        "cm_test = confusion_matrix(y_test, y_test_pred)\n",
        "\n",
        "accuracy_for_train = np.round((cm_train[0][0] + cm_train[1][1]) / len(y_train), 2)\n",
        "accuracy_for_test = np.round((cm_test[0][0] + cm_test[1][1]) / len(y_test), 2)\n",
        "print('Accuracy for training set for DecisionTreeClassifier = {}'.format(accuracy_for_train))\n",
        "print('Accuracy for test set for DecisionTreeClassifier = {}'.format(accuracy_for_test))"
      ]
    },
    {
      "cell_type": "code",
      "execution_count": 7,
      "metadata": {
        "colab": {
          "base_uri": "https://localhost:8080/"
        },
        "id": "37yu9uvQY7e8",
        "outputId": "7f8319bc-9188-4546-80cb-34799e6f03fd"
      },
      "outputs": [
        {
          "name": "stdout",
          "output_type": "stream",
          "text": [
            "Accuracy for training set for RandomForestClassifier = 0.98\n",
            "Accuracy for test set for RandomForestClassifier = 0.8\n"
          ]
        }
      ],
      "source": [
        "from sklearn.ensemble import RandomForestClassifier\n",
        "\n",
        "X = df.iloc[:, :-1].values\n",
        "y = df.iloc[:, -1].values\n",
        "\n",
        "X_train, X_test, y_train, y_test = train_test_split(X, y, test_size=0.2, random_state=42)\n",
        "\n",
        "random_forest = RandomForestClassifier(criterion='gini', max_depth=10, min_samples_split=2,\n",
        "                                       n_estimators=10, random_state=42)\n",
        "random_forest.fit(X_train, y_train)\n",
        "y_train_pred = random_forest.predict(X_train)\n",
        "y_test_pred = random_forest.predict(X_test)\n",
        "\n",
        "cm_train = confusion_matrix(y_train, y_train_pred)\n",
        "cm_test = confusion_matrix(y_test, y_test_pred)\n",
        "\n",
        "accuracy_for_train = np.round((cm_train[0][0] + cm_train[1][1]) / len(y_train), 2)\n",
        "accuracy_for_test = np.round((cm_test[0][0] + cm_test[1][1]) / len(y_test), 2)\n",
        "print('Accuracy for training set for RandomForestClassifier = {}'.format(accuracy_for_train))\n",
        "print('Accuracy for test set for RandomForestClassifier = {}'.format(accuracy_for_test))"
      ]
    },
    {
      "cell_type": "code",
      "execution_count": 8,
      "metadata": {
        "colab": {
          "base_uri": "https://localhost:8080/"
        },
        "id": "ygV0dM7LZhEW",
        "outputId": "d0360215-2f49-4783-f8c5-c3493c5f67ca"
      },
      "outputs": [
        {
          "name": "stdout",
          "output_type": "stream",
          "text": [
            "Accuracy for training set for AdaBoostClassifier = 0.91\n",
            "Accuracy for test set for AdaBoostClassifier = 0.84\n"
          ]
        }
      ],
      "source": [
        "from sklearn.ensemble import AdaBoostClassifier\n",
        "\n",
        "X = df.iloc[:, :-1].values\n",
        "y = df.iloc[:, -1].values\n",
        "\n",
        "X_train, X_test, y_train, y_test = train_test_split(X, y, test_size=0.2, random_state=42)\n",
        "\n",
        "adaboost = AdaBoostClassifier(n_estimators=50, learning_rate=1.0, random_state=42)\n",
        "adaboost.fit(X_train, y_train)\n",
        "y_train_pred = adaboost.predict(X_train)\n",
        "y_test_pred = adaboost.predict(X_test)\n",
        "\n",
        "cm_train = confusion_matrix(y_train, y_train_pred)\n",
        "cm_test = confusion_matrix(y_test, y_test_pred)\n",
        "\n",
        "accuracy_for_train = np.round((cm_train[0][0] + cm_train[1][1]) / len(y_train), 2)\n",
        "accuracy_for_test = np.round((cm_test[0][0] + cm_test[1][1]) / len(y_test), 2)\n",
        "print('Accuracy for training set for AdaBoostClassifier = {}'.format(accuracy_for_train))\n",
        "print('Accuracy for test set for AdaBoostClassifier = {}'.format(accuracy_for_test))"
      ]
    },
    {
      "cell_type": "code",
      "execution_count": 9,
      "metadata": {
        "colab": {
          "base_uri": "https://localhost:8080/"
        },
        "id": "nAATSJuxZvcM",
        "outputId": "20111036-4d6a-451e-dd02-21670af8d779"
      },
      "outputs": [
        {
          "name": "stdout",
          "output_type": "stream",
          "text": [
            "Accuracy for training set for GradientBoostingClassifier = 1.0\n",
            "Accuracy for test set for GradientBoostingClassifier = 0.85\n"
          ]
        }
      ],
      "source": [
        "from sklearn.ensemble import GradientBoostingClassifier\n",
        "\n",
        "X = df.iloc[:, :-1].values\n",
        "y = df.iloc[:, -1].values\n",
        "\n",
        "X_train, X_test, y_train, y_test = train_test_split(X, y, test_size=0.2, random_state=42)\n",
        "\n",
        "gradient_boost = GradientBoostingClassifier(learning_rate=0.1, n_estimators=100, subsample=1.0,\n",
        "                                           min_samples_split=2, max_depth=3, random_state=42)\n",
        "gradient_boost.fit(X_train, y_train)\n",
        "y_train_pred = gradient_boost.predict(X_train)\n",
        "y_test_pred = gradient_boost.predict(X_test)\n",
        "\n",
        "cm_train = confusion_matrix(y_train, y_train_pred)\n",
        "cm_test = confusion_matrix(y_test, y_test_pred)\n",
        "\n",
        "accuracy_for_train = np.round((cm_train[0][0] + cm_train[1][1]) / len(y_train), 2)\n",
        "accuracy_for_test = np.round((cm_test[0][0] + cm_test[1][1]) / len(y_test), 2)\n",
        "print('Accuracy for training set for GradientBoostingClassifier = {}'.format(accuracy_for_train))\n",
        "print('Accuracy for test set for GradientBoostingClassifier = {}'.format(accuracy_for_test))"
      ]
    },
    {
      "cell_type": "code",
      "execution_count": 10,
      "metadata": {
        "colab": {
          "base_uri": "https://localhost:8080/"
        },
        "id": "8JW-D9kUZ_Vc",
        "outputId": "31769f6b-229c-4f6e-863c-9b25ccda5099"
      },
      "outputs": [
        {
          "name": "stdout",
          "output_type": "stream",
          "text": [
            "Accuracy for training set for XGBClassifier = 1.0\n",
            "Accuracy for test set for XGBClassifier = 0.87\n"
          ]
        }
      ],
      "source": [
        "from xgboost import XGBClassifier\n",
        "\n",
        "X = df.iloc[:, :-1].values\n",
        "y = df.iloc[:, -1].values\n",
        "\n",
        "X_train, X_test, y_train, y_test = train_test_split(X, y, test_size=0.2, random_state=42)\n",
        "\n",
        "xgboost_model = XGBClassifier(objective=\"binary:logistic\", random_state=42, n_estimators=100)\n",
        "xgboost_model.fit(X_train, y_train)\n",
        "y_train_pred = xgboost_model.predict(X_train)\n",
        "y_test_pred = xgboost_model.predict(X_test)\n",
        "\n",
        "cm_train = confusion_matrix(y_train, y_train_pred)\n",
        "cm_test = confusion_matrix(y_test, y_test_pred)\n",
        "\n",
        "accuracy_for_train = np.round((cm_train[0][0] + cm_train[1][1]) / len(y_train), 2)\n",
        "accuracy_for_test = np.round((cm_test[0][0] + cm_test[1][1]) / len(y_test), 2)\n",
        "print('Accuracy for training set for XGBClassifier = {}'.format(accuracy_for_train))\n",
        "print('Accuracy for test set for XGBClassifier = {}'.format(accuracy_for_test))"
      ]
    },
    {
      "cell_type": "code",
      "execution_count": 11,
      "metadata": {
        "colab": {
          "base_uri": "https://localhost:8080/"
        },
        "id": "7a6-yoRpaRwa",
        "outputId": "89d59823-eb2d-488a-d262-7df268318cc5"
      },
      "outputs": [
        {
          "name": "stdout",
          "output_type": "stream",
          "text": [
            "Accuracy for training set for Stacking = 0.99\n",
            "Accuracy for test set for Stacking = 0.9\n"
          ]
        }
      ],
      "source": [
        "from sklearn.ensemble import StackingClassifier\n",
        "\n",
        "X = df.iloc[:, :-1].values\n",
        "y = df.iloc[:, -1].values\n",
        "\n",
        "X_train, X_test, y_train, y_test = train_test_split(X, y, test_size=0.2, random_state=42)\n",
        "\n",
        "dtc = DecisionTreeClassifier(random_state=42)\n",
        "rfc = RandomForestClassifier(random_state=42)\n",
        "knn = KNeighborsClassifier()\n",
        "xgb = XGBClassifier(random_state=42)\n",
        "gc = GradientBoostingClassifier(random_state=42)\n",
        "svc = SVC(kernel='rbf', random_state=42)\n",
        "ad = AdaBoostClassifier(random_state=42)\n",
        "\n",
        "estimators = [\n",
        "    ('decision_tree', dtc),\n",
        "    ('random_forest', rfc),\n",
        "    ('knn', knn),\n",
        "    ('xgboost', xgb),\n",
        "    ('gradient_boosting', gc),\n",
        "    ('svc', svc),\n",
        "    ('adaboost', ad)\n",
        "]\n",
        "\n",
        "stacking = StackingClassifier(estimators=estimators, final_estimator=RandomForestClassifier(random_state=42))\n",
        "stacking.fit(X_train, y_train)\n",
        "y_train_pred = stacking.predict(X_train)\n",
        "y_test_pred = stacking.predict(X_test)\n",
        "\n",
        "cm_train = confusion_matrix(y_train, y_train_pred)\n",
        "cm_test = confusion_matrix(y_test, y_test_pred)\n",
        "\n",
        "accuracy_for_train = np.round((cm_train[0][0] + cm_train[1][1]) / len(y_train), 2)\n",
        "accuracy_for_test = np.round((cm_test[0][0] + cm_test[1][1]) / len(y_test), 2)\n",
        "\n",
        "# In kết quả\n",
        "print('Accuracy for training set for Stacking = {}'.format(accuracy_for_train))\n",
        "print('Accuracy for test set for Stacking = {}'.format(accuracy_for_test))"
      ]
    }
  ],
  "metadata": {
    "colab": {
      "provenance": []
    },
    "kernelspec": {
      "display_name": "Python 3",
      "name": "python3"
    },
    "language_info": {
      "codemirror_mode": {
        "name": "ipython",
        "version": 3
      },
      "file_extension": ".py",
      "mimetype": "text/x-python",
      "name": "python",
      "nbconvert_exporter": "python",
      "pygments_lexer": "ipython3",
      "version": "3.8.19"
    }
  },
  "nbformat": 4,
  "nbformat_minor": 0
}
