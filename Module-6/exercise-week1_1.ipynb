{
 "cells": [
  {
   "cell_type": "markdown",
   "metadata": {
    "id": "z80Y1taNi8-R"
   },
   "source": [
    "Phân loại hình ảnh"
   ]
  },
  {
   "cell_type": "code",
   "execution_count": 1,
   "metadata": {
    "colab": {
     "base_uri": "https://localhost:8080/"
    },
    "id": "at0G064Rduqx",
    "outputId": "f34dbf87-635e-4e9d-e189-73bb9ba36e94"
   },
   "outputs": [
    {
     "name": "stdout",
     "output_type": "stream",
     "text": [
      "Downloading http://yann.lecun.com/exdb/mnist/train-images-idx3-ubyte.gz\n",
      "Failed to download (trying next):\n",
      "HTTP Error 403: Forbidden\n",
      "\n",
      "Downloading https://ossci-datasets.s3.amazonaws.com/mnist/train-images-idx3-ubyte.gz\n",
      "Downloading https://ossci-datasets.s3.amazonaws.com/mnist/train-images-idx3-ubyte.gz to ./data/MNIST/raw/train-images-idx3-ubyte.gz\n"
     ]
    },
    {
     "name": "stderr",
     "output_type": "stream",
     "text": [
      "100%|██████████| 9.91M/9.91M [00:00<00:00, 16.2MB/s]\n"
     ]
    },
    {
     "name": "stdout",
     "output_type": "stream",
     "text": [
      "Extracting ./data/MNIST/raw/train-images-idx3-ubyte.gz to ./data/MNIST/raw\n",
      "\n",
      "Downloading http://yann.lecun.com/exdb/mnist/train-labels-idx1-ubyte.gz\n",
      "Failed to download (trying next):\n",
      "HTTP Error 403: Forbidden\n",
      "\n",
      "Downloading https://ossci-datasets.s3.amazonaws.com/mnist/train-labels-idx1-ubyte.gz\n",
      "Downloading https://ossci-datasets.s3.amazonaws.com/mnist/train-labels-idx1-ubyte.gz to ./data/MNIST/raw/train-labels-idx1-ubyte.gz\n"
     ]
    },
    {
     "name": "stderr",
     "output_type": "stream",
     "text": [
      "100%|██████████| 28.9k/28.9k [00:00<00:00, 490kB/s]\n"
     ]
    },
    {
     "name": "stdout",
     "output_type": "stream",
     "text": [
      "Extracting ./data/MNIST/raw/train-labels-idx1-ubyte.gz to ./data/MNIST/raw\n",
      "\n",
      "Downloading http://yann.lecun.com/exdb/mnist/t10k-images-idx3-ubyte.gz\n",
      "Failed to download (trying next):\n",
      "HTTP Error 403: Forbidden\n",
      "\n",
      "Downloading https://ossci-datasets.s3.amazonaws.com/mnist/t10k-images-idx3-ubyte.gz\n",
      "Downloading https://ossci-datasets.s3.amazonaws.com/mnist/t10k-images-idx3-ubyte.gz to ./data/MNIST/raw/t10k-images-idx3-ubyte.gz\n"
     ]
    },
    {
     "name": "stderr",
     "output_type": "stream",
     "text": [
      "100%|██████████| 1.65M/1.65M [00:00<00:00, 4.48MB/s]\n"
     ]
    },
    {
     "name": "stdout",
     "output_type": "stream",
     "text": [
      "Extracting ./data/MNIST/raw/t10k-images-idx3-ubyte.gz to ./data/MNIST/raw\n",
      "\n",
      "Downloading http://yann.lecun.com/exdb/mnist/t10k-labels-idx1-ubyte.gz\n",
      "Failed to download (trying next):\n",
      "HTTP Error 403: Forbidden\n",
      "\n",
      "Downloading https://ossci-datasets.s3.amazonaws.com/mnist/t10k-labels-idx1-ubyte.gz\n",
      "Downloading https://ossci-datasets.s3.amazonaws.com/mnist/t10k-labels-idx1-ubyte.gz to ./data/MNIST/raw/t10k-labels-idx1-ubyte.gz\n"
     ]
    },
    {
     "name": "stderr",
     "output_type": "stream",
     "text": [
      "100%|██████████| 4.54k/4.54k [00:00<00:00, 4.28MB/s]"
     ]
    },
    {
     "name": "stdout",
     "output_type": "stream",
     "text": [
      "Extracting ./data/MNIST/raw/t10k-labels-idx1-ubyte.gz to ./data/MNIST/raw\n",
      "\n"
     ]
    },
    {
     "name": "stderr",
     "output_type": "stream",
     "text": [
      "\n"
     ]
    }
   ],
   "source": [
    "import os\n",
    "import random\n",
    "import numpy as np\n",
    "import torch\n",
    "import torch.nn as nn\n",
    "import torch.optim as optim\n",
    "import torch.nn.functional as F\n",
    "import torch.utils.data as data\n",
    "import torchvision.transforms as transforms\n",
    "import torchvision.datasets as datasets\n",
    "from torchsummary import summary\n",
    "import matplotlib.pyplot as plt\n",
    "from PIL import Image\n",
    "import time\n",
    "ROOT = './data'\n",
    "train_data = datasets.MNIST(\n",
    "    root=ROOT,\n",
    "    train=True,\n",
    "    download=True\n",
    ")\n",
    "test_data = datasets.MNIST(\n",
    "    root=ROOT,\n",
    "    train=False,\n",
    "    download=True\n",
    ")"
   ]
  },
  {
   "cell_type": "code",
   "execution_count": 2,
   "metadata": {
    "id": "Wz2Gyf0jeX3j"
   },
   "outputs": [],
   "source": [
    "# split training: validation = 0.9 : 0.1\n",
    "VALID_RATIO = 0.9\n",
    "\n",
    "n_train_examples = int(len(train_data) * VALID_RATIO)\n",
    "n_valid_examples = len(train_data) - n_train_examples\n",
    "\n",
    "train_data, valid_data = data.random_split(\n",
    "    train_data,\n",
    "    [n_train_examples, n_valid_examples]\n",
    ")\n",
    "\n",
    "# compute mean and std for normalization\n",
    "mean = train_data.dataset.data.float().mean() / 255\n",
    "std = train_data.dataset.data.float().std() / 255\n",
    "\n",
    "train_transforms = transforms.Compose([\n",
    "    transforms.ToTensor(),\n",
    "    transforms.Normalize(mean=[mean], std=[std])\n",
    "])\n",
    "test_transforms = transforms.Compose([\n",
    "    transforms.ToTensor(),\n",
    "    transforms.Normalize(mean=[mean], std=[std])\n",
    "])\n",
    "\n",
    "train_data.dataset.transform = train_transforms\n",
    "valid_data.dataset.transform = test_transforms\n",
    "\n",
    "# Create dataloader\n",
    "BATCH_SIZE = 256\n",
    "\n",
    "train_dataloader = data.DataLoader(\n",
    "    train_data,\n",
    "    shuffle=True,\n",
    "    batch_size=BATCH_SIZE\n",
    ")\n",
    "\n",
    "valid_dataloader = data.DataLoader(\n",
    "    valid_data,\n",
    "    batch_size=BATCH_SIZE\n",
    ")"
   ]
  },
  {
   "cell_type": "code",
   "execution_count": 3,
   "metadata": {
    "id": "_dmtzP6CfK-e"
   },
   "outputs": [],
   "source": [
    "class LeNetClassifier(nn.Module):\n",
    "    def __init__(self, num_classes):\n",
    "        super().__init__()\n",
    "        self.conv1 = nn.Conv2d(\n",
    "            in_channels=1, out_channels=6, kernel_size=5, padding='same'\n",
    "        )\n",
    "        self.avgpool1 = nn.AvgPool2d(kernel_size=2)\n",
    "        self.conv2 = nn.Conv2d(in_channels=6, out_channels=16, kernel_size=5)\n",
    "        self.avgpool2 = nn.AvgPool2d(kernel_size=2)\n",
    "        self.flatten = nn.Flatten()\n",
    "        self.fc_1 = nn.Linear(self._get_fc_input_size(), 120)\n",
    "        self.fc_2 = nn.Linear(120, 84)\n",
    "        self.fc_3 = nn.Linear(84, num_classes)\n",
    "\n",
    "    def _get_fc_input_size(self):\n",
    "        dummy_input = torch.randn(1, 1, 28, 28)\n",
    "        output = self.conv1(dummy_input)\n",
    "        output = self.avgpool1(output)\n",
    "        output = F.relu(output)\n",
    "        output = self.conv2(output)\n",
    "        output = self.avgpool2(output)\n",
    "        output = F.relu(output)\n",
    "        output = self.flatten(output)\n",
    "        return output.shape[1]\n",
    "\n",
    "    def forward(self, inputs):\n",
    "        outputs = self.conv1(inputs)\n",
    "        outputs = self.avgpool1(outputs)\n",
    "        outputs = F.relu(outputs)\n",
    "        outputs = self.conv2(outputs)\n",
    "        outputs = self.avgpool2(outputs)\n",
    "        outputs = F.relu(outputs)\n",
    "        outputs = self.flatten(outputs)\n",
    "        outputs = self.fc_1(outputs)\n",
    "        outputs = self.fc_2(outputs)\n",
    "        outputs = self.fc_3(outputs)\n",
    "        return outputs"
   ]
  },
  {
   "cell_type": "code",
   "execution_count": 4,
   "metadata": {
    "id": "9hXNWlW4fWXm"
   },
   "outputs": [],
   "source": [
    "def train(model, optimizer, criterion, train_dataloader, device, epoch=0, log_interval=50):\n",
    "    model.train()\n",
    "    total_acc, total_count = 0, 0\n",
    "    losses = []\n",
    "    start_time = time.time()\n",
    "\n",
    "    for idx, (inputs, labels) in enumerate(train_dataloader):\n",
    "        inputs = inputs.to(device)\n",
    "        labels = labels.to(device)\n",
    "\n",
    "        optimizer.zero_grad()\n",
    "        predictions = model(inputs)\n",
    "\n",
    "        # compute loss\n",
    "        loss = criterion(predictions, labels)\n",
    "        losses.append(loss.item())\n",
    "\n",
    "        # backward\n",
    "        loss.backward()\n",
    "        torch.nn.utils.clip_grad_norm_(model.parameters(), 0.1)\n",
    "        optimizer.step()\n",
    "\n",
    "        total_acc += (predictions.argmax(1) == labels).sum().item()\n",
    "        total_count += labels.size(0)\n",
    "\n",
    "        if idx % log_interval == 0 and idx > 0:\n",
    "            elapsed = time.time() - start_time\n",
    "            print(\n",
    "                \" | epoch {:3d} | {:5d}/{:5d} batches \"\n",
    "                \" | accuracy {:.8f}\".format(\n",
    "                    epoch, idx, len(train_dataloader), total_acc / total_count\n",
    "                )\n",
    "            )\n",
    "            total_acc, total_count = 0, 0\n",
    "            start_time = time.time()\n",
    "\n",
    "    epoch_acc = total_acc / total_count\n",
    "    epoch_loss = sum(losses) / len(losses)\n",
    "    return epoch_acc, epoch_loss\n",
    "\n",
    "# Evaluation function\n",
    "def evaluate(model, criterion, valid_dataloader, device):\n",
    "    model.eval()\n",
    "    total_acc, total_count = 0, 0\n",
    "    losses = []\n",
    "\n",
    "    with torch.no_grad():\n",
    "        for idx, (inputs, labels) in enumerate(valid_dataloader):\n",
    "            inputs = inputs.to(device)\n",
    "            labels = labels.to(device)\n",
    "\n",
    "            predictions = model(inputs)\n",
    "\n",
    "            loss = criterion(predictions, labels)\n",
    "            losses.append(loss.item())\n",
    "\n",
    "            total_acc += (predictions.argmax(1) == labels).sum().item()\n",
    "            total_count += labels.size(0)\n",
    "\n",
    "    epoch_acc = total_acc / total_count\n",
    "    epoch_loss = sum(losses) / len(losses)\n",
    "    return epoch_acc, epoch_loss"
   ]
  },
  {
   "cell_type": "code",
   "execution_count": null,
   "metadata": {
    "colab": {
     "base_uri": "https://localhost:8080/"
    },
    "id": "H23aK-GBfvEv",
    "outputId": "a5d506cb-fa75-4357-dece-a027903c5956"
   },
   "outputs": [
    {
     "name": "stdout",
     "output_type": "stream",
     "text": [
      " | epoch   1 |    50/  211 batches  | accuracy 0.68642770\n",
      " | epoch   1 |   100/  211 batches  | accuracy 0.89109375\n",
      " | epoch   1 |   150/  211 batches  | accuracy 0.92101563\n",
      " | epoch   1 |   200/  211 batches  | accuracy 0.95031250\n",
      "-----------------------------------------------------------\n",
      "| End of epoch   1 | Time: 14.39s | Train Accuracy    0.952 | Train Loss    0.460 | Valid Accuracy    0.957 | Valid Loss    0.137 \n",
      "-----------------------------------------------------------\n",
      " | epoch   2 |    50/  211 batches  | accuracy 0.96147365\n",
      " | epoch   2 |   100/  211 batches  | accuracy 0.96445313\n",
      " | epoch   2 |   150/  211 batches  | accuracy 0.96484375\n",
      " | epoch   2 |   200/  211 batches  | accuracy 0.96929687\n",
      "-----------------------------------------------------------\n",
      "| End of epoch   2 | Time: 13.27s | Train Accuracy    0.966 | Train Loss    0.119 | Valid Accuracy    0.968 | Valid Loss    0.093 \n",
      "-----------------------------------------------------------\n",
      " | epoch   3 |    50/  211 batches  | accuracy 0.97296262\n",
      " | epoch   3 |   100/  211 batches  | accuracy 0.97460938\n",
      " | epoch   3 |   150/  211 batches  | accuracy 0.97460938\n",
      " | epoch   3 |   200/  211 batches  | accuracy 0.97304687\n",
      "-----------------------------------------------------------\n",
      "| End of epoch   3 | Time: 13.04s | Train Accuracy    0.976 | Train Loss    0.088 | Valid Accuracy    0.975 | Valid Loss    0.078 \n",
      "-----------------------------------------------------------\n",
      " | epoch   4 |    50/  211 batches  | accuracy 0.97863051\n",
      " | epoch   4 |   100/  211 batches  | accuracy 0.97726563\n",
      " | epoch   4 |   150/  211 batches  | accuracy 0.97687500\n",
      " | epoch   4 |   200/  211 batches  | accuracy 0.97968750\n",
      "-----------------------------------------------------------\n",
      "| End of epoch   4 | Time: 13.77s | Train Accuracy    0.978 | Train Loss    0.073 | Valid Accuracy    0.980 | Valid Loss    0.059 \n",
      "-----------------------------------------------------------\n",
      " | epoch   5 |    50/  211 batches  | accuracy 0.98161765\n",
      " | epoch   5 |   100/  211 batches  | accuracy 0.98046875\n",
      " | epoch   5 |   150/  211 batches  | accuracy 0.98070313\n",
      " | epoch   5 |   200/  211 batches  | accuracy 0.98101562\n",
      "-----------------------------------------------------------\n",
      "| End of epoch   5 | Time: 12.72s | Train Accuracy    0.982 | Train Loss    0.063 | Valid Accuracy    0.981 | Valid Loss    0.058 \n",
      "-----------------------------------------------------------\n",
      " | epoch   6 |    50/  211 batches  | accuracy 0.98169424\n",
      " | epoch   6 |   100/  211 batches  | accuracy 0.98335938\n",
      " | epoch   6 |   150/  211 batches  | accuracy 0.98265625\n",
      " | epoch   6 |   200/  211 batches  | accuracy 0.98218750\n",
      "-----------------------------------------------------------\n",
      "| End of epoch   6 | Time: 12.68s | Train Accuracy    0.984 | Train Loss    0.057 | Valid Accuracy    0.982 | Valid Loss    0.060 \n",
      "-----------------------------------------------------------\n",
      " | epoch   7 |    50/  211 batches  | accuracy 0.98468137\n",
      " | epoch   7 |   100/  211 batches  | accuracy 0.98414062\n",
      " | epoch   7 |   150/  211 batches  | accuracy 0.98453125\n",
      " | epoch   7 |   200/  211 batches  | accuracy 0.98476562\n",
      "-----------------------------------------------------------\n",
      "| End of epoch   7 | Time: 12.67s | Train Accuracy    0.983 | Train Loss    0.051 | Valid Accuracy    0.982 | Valid Loss    0.056 \n",
      "-----------------------------------------------------------\n",
      " | epoch   8 |    50/  211 batches  | accuracy 0.98759191\n",
      " | epoch   8 |   100/  211 batches  | accuracy 0.98546875\n",
      " | epoch   8 |   150/  211 batches  | accuracy 0.98609375\n",
      " | epoch   8 |   200/  211 batches  | accuracy 0.98554688\n",
      "-----------------------------------------------------------\n",
      "| End of epoch   8 | Time: 12.70s | Train Accuracy    0.982 | Train Loss    0.048 | Valid Accuracy    0.979 | Valid Loss    0.072 \n",
      "-----------------------------------------------------------\n",
      " | epoch   9 |    50/  211 batches  | accuracy 0.98713235\n",
      " | epoch   9 |   100/  211 batches  | accuracy 0.98648437\n",
      " | epoch   9 |   150/  211 batches  | accuracy 0.98789063\n",
      " | epoch   9 |   200/  211 batches  | accuracy 0.98562500\n",
      "-----------------------------------------------------------\n",
      "| End of epoch   9 | Time: 12.81s | Train Accuracy    0.985 | Train Loss    0.044 | Valid Accuracy    0.982 | Valid Loss    0.056 \n",
      "-----------------------------------------------------------\n",
      " | epoch  10 |    50/  211 batches  | accuracy 0.98912377\n",
      " | epoch  10 |   100/  211 batches  | accuracy 0.98757812\n",
      " | epoch  10 |   150/  211 batches  | accuracy 0.98656250\n",
      " | epoch  10 |   200/  211 batches  | accuracy 0.98859375\n",
      "-----------------------------------------------------------\n",
      "| End of epoch  10 | Time: 12.79s | Train Accuracy    0.985 | Train Loss    0.040 | Valid Accuracy    0.986 | Valid Loss    0.049 \n",
      "-----------------------------------------------------------\n"
     ]
    },
    {
     "name": "stderr",
     "output_type": "stream",
     "text": [
      "<ipython-input-5-3f48d7f166b9>:48: FutureWarning: You are using `torch.load` with `weights_only=False` (the current default value), which uses the default pickle module implicitly. It is possible to construct malicious pickle data which will execute arbitrary code during unpickling (See https://github.com/pytorch/pytorch/blob/main/SECURITY.md#untrusted-models for more details). In a future release, the default value for `weights_only` will be flipped to `True`. This limits the functions that could be executed during unpickling. Arbitrary objects will no longer be allowed to be loaded via this mode unless they are explicitly allowlisted by the user via `torch.serialization.add_safe_globals`. We recommend you start setting `weights_only=True` for any use case where you don't have full control of the loaded file. Please open an issue on GitHub for any issues related to this experimental feature.\n",
      "  lenet_model.load_state_dict(torch.load(save_model + '/lenet_model.pt'))\n"
     ]
    },
    {
     "data": {
      "text/plain": [
       "LeNetClassifier(\n",
       "  (conv1): Conv2d(1, 6, kernel_size=(5, 5), stride=(1, 1), padding=same)\n",
       "  (avgpool1): AvgPool2d(kernel_size=2, stride=2, padding=0)\n",
       "  (conv2): Conv2d(6, 16, kernel_size=(5, 5), stride=(1, 1))\n",
       "  (avgpool2): AvgPool2d(kernel_size=2, stride=2, padding=0)\n",
       "  (flatten): Flatten(start_dim=1, end_dim=-1)\n",
       "  (fc_1): Linear(in_features=400, out_features=120, bias=True)\n",
       "  (fc_2): Linear(in_features=120, out_features=84, bias=True)\n",
       "  (fc_3): Linear(in_features=84, out_features=10, bias=True)\n",
       ")"
      ]
     },
     "execution_count": 5,
     "metadata": {},
     "output_type": "execute_result"
    }
   ],
   "source": [
    "num_classes = len(train_data.dataset.classes)\n",
    "\n",
    "device = torch.device('cuda' if torch.cuda.is_available() else 'cpu')\n",
    "\n",
    "lenet_model = LeNetClassifier(num_classes)\n",
    "lenet_model.to(device)\n",
    "\n",
    "criterion = torch.nn.CrossEntropyLoss()\n",
    "optimizer = optim.Adam(lenet_model.parameters())\n",
    "\n",
    "num_epochs = 10\n",
    "save_model = './model'\n",
    "os.makedirs(save_model, exist_ok=True)\n",
    "\n",
    "train_accs, train_losses = [], []\n",
    "eval_accs, eval_losses = [], []\n",
    "best_loss_eval = 100\n",
    "\n",
    "for epoch in range(1, num_epochs + 1):\n",
    "    epoch_start_time = time.time()\n",
    "\n",
    "    # Training\n",
    "    train_acc, train_loss = train(lenet_model, optimizer, criterion, train_dataloader, device, epoch)\n",
    "    train_accs.append(train_acc)\n",
    "    train_losses.append(train_loss)\n",
    "\n",
    "    # Evaluation\n",
    "    eval_acc, eval_loss = evaluate(lenet_model, criterion, valid_dataloader, device)\n",
    "    eval_accs.append(eval_acc)\n",
    "    eval_losses.append(eval_loss)\n",
    "\n",
    "    # Save best model\n",
    "    if eval_loss < best_loss_eval:\n",
    "        torch.save(lenet_model.state_dict(), save_model + '/lenet_model.pt')\n",
    "        best_loss_eval = eval_loss\n",
    "\n",
    "    # Print loss, acc end epoch\n",
    "    print(\"-\" * 59)\n",
    "    print(\n",
    "        \"| End of epoch {:3d} | Time: {:5.2f}s | Train Accuracy {:8.3f} | Train Loss {:8.3f} \"\n",
    "        \"| Valid Accuracy {:8.3f} | Valid Loss {:8.3f} \".format(\n",
    "            epoch, time.time() - epoch_start_time, train_acc, train_loss, eval_acc, eval_loss\n",
    "        )\n",
    "    )\n",
    "    print(\"-\" * 59)"
   ]
  },
  {
   "cell_type": "code",
   "execution_count": 6,
   "metadata": {
    "colab": {
     "base_uri": "https://localhost:8080/"
    },
    "id": "mWR77ZVBf015",
    "outputId": "3f00172e-133d-4c6d-fa22-48201b76df08"
   },
   "outputs": [
    {
     "data": {
      "text/plain": [
       "(0.9865, 0.04865148442731879)"
      ]
     },
     "execution_count": 6,
     "metadata": {},
     "output_type": "execute_result"
    }
   ],
   "source": [
    "test_data.transform = test_transforms\n",
    "test_dataloader = data.DataLoader(\n",
    "    test_data,\n",
    "    batch_size=BATCH_SIZE\n",
    ")\n",
    "\n",
    "test_acc, test_loss = evaluate(lenet_model, criterion, test_dataloader, device)\n",
    "test_acc, test_loss"
   ]
  }
 ],
 "metadata": {
  "accelerator": "GPU",
  "colab": {
   "gpuType": "T4",
   "provenance": []
  },
  "kernelspec": {
   "display_name": "Python 3",
   "name": "python3"
  },
  "language_info": {
   "name": "python"
  }
 },
 "nbformat": 4,
 "nbformat_minor": 0
}
