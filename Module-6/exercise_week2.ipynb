{
  "nbformat": 4,
  "nbformat_minor": 0,
  "metadata": {
    "colab": {
      "provenance": [],
      "gpuType": "T4"
    },
    "kernelspec": {
      "name": "python3",
      "display_name": "Python 3"
    },
    "language_info": {
      "name": "python"
    },
    "accelerator": "GPU"
  },
  "cells": [
    {
      "cell_type": "code",
      "execution_count": 5,
      "metadata": {
        "id": "b-WNKXp5DZ6K"
      },
      "outputs": [],
      "source": [
        "import torch\n",
        "import torch.nn as nn\n",
        "import os\n",
        "import random\n",
        "import numpy as np\n",
        "import pandas as pd\n",
        "import matplotlib.pyplot as plt\n",
        "\n",
        "from PIL import Image\n",
        "from torch.utils.data import Dataset, DataLoader\n",
        "from sklearn.model_selection import train_test_split"
      ]
    },
    {
      "cell_type": "code",
      "source": [
        "def set_seed(seed):\n",
        "    random.seed(seed)\n",
        "    np.random.seed(seed)\n",
        "    torch.manual_seed(seed)\n",
        "    torch.cuda.manual_seed(seed)\n",
        "    torch.cuda.manual_seed_all(seed)\n",
        "    torch.backends.cudnn.deterministic = True\n",
        "    torch.backends.cudnn.benchmark = False\n",
        "\n",
        "seed = 59\n",
        "set_seed(seed)"
      ],
      "metadata": {
        "id": "dWfPcM_dGzTq"
      },
      "execution_count": 6,
      "outputs": []
    },
    {
      "cell_type": "code",
      "source": [
        "!gdown '1r2rdQpTOGeeJeRM_ZLHgx4VgBydao9MR'\n",
        "!mkdir data\n",
        "!unzip -q '/content/weather-dataset.zip' -d '/content/weather-dataset'"
      ],
      "metadata": {
        "colab": {
          "base_uri": "https://localhost:8080/"
        },
        "id": "mLjNvOiLMvFW",
        "outputId": "337902db-3bd3-42ba-a84a-3222c2074b4c"
      },
      "execution_count": 7,
      "outputs": [
        {
          "output_type": "stream",
          "name": "stdout",
          "text": [
            "Downloading...\n",
            "From (original): https://drive.google.com/uc?id=1r2rdQpTOGeeJeRM_ZLHgx4VgBydao9MR\n",
            "From (redirected): https://drive.google.com/uc?id=1r2rdQpTOGeeJeRM_ZLHgx4VgBydao9MR&confirm=t&uuid=d9b95834-ea0c-4f11-9036-8991e6212eca\n",
            "To: /content/weather-dataset.zip\n",
            "100% 613M/613M [00:08<00:00, 73.5MB/s]\n"
          ]
        }
      ]
    },
    {
      "cell_type": "code",
      "source": [
        "root_dir = '/content/weather-dataset/weather-dataset/dataset'\n",
        "img_paths = []\n",
        "labels = []\n",
        "classes = {\n",
        "    label_idx: class_name\n",
        "    for label_idx, class_name in enumerate(\n",
        "        sorted(os.listdir(root_dir))\n",
        "    )\n",
        "}"
      ],
      "metadata": {
        "id": "2qBksjIwIazO"
      },
      "execution_count": 8,
      "outputs": []
    },
    {
      "cell_type": "code",
      "source": [
        "img_paths = []\n",
        "labels = []\n",
        "for label_idx, class_name in classes.items():\n",
        "    class_dir = os.path.join(root_dir, class_name)\n",
        "    for img_filename in os.listdir(class_dir):\n",
        "        img_path = os.path.join(class_dir, img_filename)\n",
        "        img_paths.append(img_path)\n",
        "        labels.append(label_idx)"
      ],
      "metadata": {
        "id": "3jO6360yIrrL"
      },
      "execution_count": 9,
      "outputs": []
    },
    {
      "cell_type": "code",
      "source": [
        "val_size = 0.2\n",
        "test_size = 0.125\n",
        "is_shuffle = True\n",
        "\n",
        "X_train, X_val, y_train, y_val = train_test_split(\n",
        "    img_paths, labels,\n",
        "    test_size=val_size,\n",
        "    random_state=seed,\n",
        "    shuffle=is_shuffle\n",
        ")\n",
        "\n",
        "X_train, X_test, y_train, y_test = train_test_split(\n",
        "    X_train, y_train,\n",
        "    test_size=test_size,\n",
        "    random_state=seed,\n",
        "    shuffle=is_shuffle\n",
        ")"
      ],
      "metadata": {
        "id": "ORxc8zorR3xh"
      },
      "execution_count": 10,
      "outputs": []
    },
    {
      "cell_type": "code",
      "source": [
        "class WeatherDataset(Dataset):\n",
        "    def __init__(\n",
        "        self,\n",
        "        X, y,\n",
        "        transform=None\n",
        "    ):\n",
        "        self.transform = transform\n",
        "        self.img_paths = X\n",
        "        self.labels = y\n",
        "\n",
        "    def __len__(self):\n",
        "        return len(self.img_paths)\n",
        "\n",
        "    def __getitem__(self, idx):\n",
        "        img_path = self.img_paths[idx]\n",
        "        img = Image.open(img_path).convert(\"RGB\")\n",
        "\n",
        "        if self.transform:\n",
        "            img = self.transform(img)\n",
        "\n",
        "        return img, self.labels[idx]"
      ],
      "metadata": {
        "id": "krywzRtESDFS"
      },
      "execution_count": 11,
      "outputs": []
    },
    {
      "cell_type": "code",
      "source": [
        "def transform(img, img_size=(224, 224)):\n",
        "    img = img.resize(img_size)\n",
        "    img = np.array(img)[..., :3]\n",
        "    img = torch.tensor(img).permute(2, 0, 1).float()\n",
        "    normalized_img = img / 255.0\n",
        "    return normalized_img"
      ],
      "metadata": {
        "id": "y8I0oe2lSPFY"
      },
      "execution_count": 12,
      "outputs": []
    },
    {
      "cell_type": "code",
      "source": [
        "train_dataset = WeatherDataset(\n",
        "    X_train, y_train,\n",
        "    transform=transform\n",
        ")\n",
        "\n",
        "val_dataset = WeatherDataset(\n",
        "    X_val, y_val,\n",
        "    transform=transform\n",
        ")\n",
        "\n",
        "test_dataset = WeatherDataset(\n",
        "    X_test, y_test,\n",
        "    transform=transform\n",
        ")\n"
      ],
      "metadata": {
        "id": "UiDPtQXiSVhq"
      },
      "execution_count": 13,
      "outputs": []
    },
    {
      "cell_type": "code",
      "source": [
        "train_batch_size = 512\n",
        "test_batch_size = 8\n",
        "\n",
        "train_loader = DataLoader(\n",
        "    train_dataset,\n",
        "    batch_size=train_batch_size,\n",
        "    shuffle=True\n",
        ")\n",
        "\n",
        "val_loader = DataLoader(\n",
        "    val_dataset,\n",
        "    batch_size=test_batch_size,\n",
        "    shuffle=False\n",
        ")\n",
        "\n",
        "test_loader = DataLoader(\n",
        "    test_dataset,\n",
        "    batch_size=test_batch_size,\n",
        "    shuffle=False\n",
        ")"
      ],
      "metadata": {
        "id": "8KhjzH89SWRw"
      },
      "execution_count": 14,
      "outputs": []
    },
    {
      "cell_type": "code",
      "source": [
        "class ResidualBlock(nn.Module):\n",
        "    def __init__(self, in_channels, out_channels, stride=1):\n",
        "        super(ResidualBlock, self).__init__()\n",
        "        self.conv1 = nn.Conv2d(in_channels, out_channels, kernel_size=3, stride=stride, padding=1)\n",
        "        self.batch_norm1 = nn.BatchNorm2d(out_channels)\n",
        "        self.conv2 = nn.Conv2d(out_channels, out_channels, kernel_size=3, stride=1, padding=1)\n",
        "        self.batch_norm2 = nn.BatchNorm2d(out_channels)\n",
        "\n",
        "        self.downsample = nn.Sequential()\n",
        "        if stride != 1 or in_channels != out_channels:\n",
        "            self.downsample = nn.Sequential(\n",
        "                nn.Conv2d(in_channels, out_channels, kernel_size=1, stride=stride),\n",
        "                nn.BatchNorm2d(out_channels)\n",
        "            )\n",
        "        self.relu = nn.ReLU()\n",
        "\n",
        "    def forward(self, x):\n",
        "        shortcut = x.clone()\n",
        "        x = self.conv1(x)\n",
        "        x = self.batch_norm1(x)\n",
        "        x = self.relu(x)\n",
        "        x = self.conv2(x)\n",
        "        x = self.batch_norm2(x)\n",
        "        x += self.downsample(shortcut)\n",
        "        x = self.relu(x)\n",
        "        return x"
      ],
      "metadata": {
        "id": "SF7Em3c-SXXb"
      },
      "execution_count": 15,
      "outputs": []
    },
    {
      "cell_type": "code",
      "source": [
        "class ResNet(nn.Module):\n",
        "    def __init__(self, residual_block, n_blocks_lst, n_classes):\n",
        "        super(ResNet, self).__init__()\n",
        "        self.conv1 = nn.Conv2d(3, 64, kernel_size=7, stride=2, padding=3)\n",
        "        self.batch_norm1 = nn.BatchNorm2d(64)\n",
        "        self.relu = nn.ReLU()\n",
        "        self.maxpool = nn.MaxPool2d(kernel_size=3, stride=2, padding=1)\n",
        "\n",
        "        self.conv2 = self.create_layer(residual_block, 64, 64, n_blocks_lst[0], 1)\n",
        "        self.conv3 = self.create_layer(residual_block, 64, 128, n_blocks_lst[1], 2)\n",
        "        self.conv4 = self.create_layer(residual_block, 128, 256, n_blocks_lst[2], 2)\n",
        "        self.conv5 = self.create_layer(residual_block, 256, 512, n_blocks_lst[3], 2)\n",
        "        self.avgpool = nn.AdaptiveAvgPool2d(1)\n",
        "        self.flatten = nn.Flatten()\n",
        "        self.fc1 = nn.Linear(512, n_classes)\n",
        "\n",
        "    def create_layer(self, residual_block, in_channels, out_channels, n_blocks, stride):\n",
        "        blocks = []\n",
        "        first_block = residual_block(in_channels, out_channels, stride)\n",
        "        blocks.append(first_block)\n",
        "\n",
        "        for idx in range(1, n_blocks):\n",
        "            block = residual_block(out_channels, out_channels, stride=1)\n",
        "            blocks.append(block)\n",
        "\n",
        "        block_sequential = nn.Sequential(*blocks)\n",
        "        return block_sequential\n",
        "\n",
        "    def forward(self, x):\n",
        "        x = self.conv1(x)\n",
        "        x = self.batch_norm1(x)\n",
        "        x = self.maxpool(x)\n",
        "        x = self.relu(x)\n",
        "        x = self.conv2(x)\n",
        "        x = self.conv3(x)\n",
        "        x = self.conv4(x)\n",
        "        x = self.conv5(x)\n",
        "        x = self.avgpool(x)\n",
        "        x = self.flatten(x)\n",
        "        x = self.fc1(x)\n",
        "        return x"
      ],
      "metadata": {
        "id": "UU3QGV9QSe--"
      },
      "execution_count": 16,
      "outputs": []
    },
    {
      "cell_type": "code",
      "source": [
        "n_classes = len(list(classes.keys()))\n",
        "device = 'cuda' if torch.cuda.is_available() else 'cpu'\n",
        "\n",
        "model = ResNet(\n",
        "    residual_block=ResidualBlock,\n",
        "    n_blocks_lst=[2, 2, 2, 2],\n",
        "    n_classes=n_classes\n",
        ").to(device)"
      ],
      "metadata": {
        "id": "Te5ZlLBPSklo"
      },
      "execution_count": 17,
      "outputs": []
    },
    {
      "cell_type": "code",
      "source": [
        "def evaluate(model, dataloader, criterion, device):\n",
        "    model.eval()\n",
        "    correct = 0\n",
        "    total = 0\n",
        "    losses = []\n",
        "    with torch.no_grad():\n",
        "        for inputs, labels in dataloader:\n",
        "            inputs, labels = inputs.to(device), labels.to(device)\n",
        "            outputs = model(inputs)\n",
        "            loss = criterion(outputs, labels)\n",
        "            losses.append(loss.item())\n",
        "\n",
        "            _, predicted = torch.max(outputs.data, 1)\n",
        "            total += labels.size(0)\n",
        "            correct += (predicted == labels).sum().item()\n",
        "\n",
        "    loss = sum(losses) / len(losses)\n",
        "    acc = correct / total\n",
        "\n",
        "    return loss, acc"
      ],
      "metadata": {
        "id": "IXhStPSLSmDy"
      },
      "execution_count": 18,
      "outputs": []
    },
    {
      "cell_type": "code",
      "source": [
        "def fit(\n",
        "    model,\n",
        "    train_loader,\n",
        "    val_loader,\n",
        "    criterion,\n",
        "    optimizer,\n",
        "    device,\n",
        "    epochs\n",
        "):\n",
        "    train_losses = []\n",
        "    val_losses = []\n",
        "\n",
        "    for epoch in range(epochs):\n",
        "        batch_train_losses = []\n",
        "\n",
        "        model.train()\n",
        "        for idx, (inputs, labels) in enumerate(train_loader):\n",
        "            inputs, labels = inputs.to(device), labels.to(device)\n",
        "\n",
        "            optimizer.zero_grad()\n",
        "            outputs = model(inputs)\n",
        "            loss = criterion(outputs, labels)\n",
        "            loss.backward()\n",
        "            optimizer.step()\n",
        "\n",
        "            batch_train_losses.append(loss.item())\n",
        "\n",
        "        train_loss = sum(batch_train_losses) / len(batch_train_losses)\n",
        "        train_losses.append(train_loss)\n",
        "\n",
        "        val_loss, val_acc = evaluate(\n",
        "            model, val_loader,\n",
        "            criterion, device\n",
        "        )\n",
        "        val_losses.append(val_loss)\n",
        "\n",
        "        print(f'EPOCH {epoch + 1}:\\tTrain loss: {train_loss:.4f}\\tVal loss: {val_loss:.4f}')\n",
        "\n",
        "    return train_losses, val_losses"
      ],
      "metadata": {
        "id": "a1zhuAYSSs_4"
      },
      "execution_count": 19,
      "outputs": []
    },
    {
      "cell_type": "code",
      "source": [
        "lr = 1e-2\n",
        "epochs = 25\n",
        "\n",
        "criterion = nn.CrossEntropyLoss()\n",
        "optimizer = torch.optim.SGD(\n",
        "    model.parameters(),\n",
        "    lr=lr\n",
        ")\n",
        "\n",
        "train_losses, val_losses = fit(\n",
        "    model,\n",
        "    train_loader,\n",
        "    val_loader,\n",
        "    criterion,\n",
        "    optimizer,\n",
        "    device,\n",
        "    epochs\n",
        ")"
      ],
      "metadata": {
        "colab": {
          "base_uri": "https://localhost:8080/"
        },
        "id": "jzhUyYWhSzCY",
        "outputId": "7ef5b6d6-e5c6-4300-a521-f289e2a5266a"
      },
      "execution_count": 20,
      "outputs": [
        {
          "output_type": "stream",
          "name": "stdout",
          "text": [
            "EPOCH 1:\tTrain loss: 1.8750\tVal loss: 2.3823\n",
            "EPOCH 2:\tTrain loss: 1.3696\tVal loss: 2.6315\n",
            "EPOCH 3:\tTrain loss: 1.2222\tVal loss: 2.9146\n",
            "EPOCH 4:\tTrain loss: 1.1396\tVal loss: 1.8980\n",
            "EPOCH 5:\tTrain loss: 1.0671\tVal loss: 1.3811\n",
            "EPOCH 6:\tTrain loss: 1.0144\tVal loss: 2.0675\n",
            "EPOCH 7:\tTrain loss: 1.0037\tVal loss: 1.4841\n",
            "EPOCH 8:\tTrain loss: 0.9335\tVal loss: 1.1608\n",
            "EPOCH 9:\tTrain loss: 0.8778\tVal loss: 1.2476\n",
            "EPOCH 10:\tTrain loss: 0.8449\tVal loss: 2.8437\n",
            "EPOCH 11:\tTrain loss: 0.8256\tVal loss: 1.1714\n",
            "EPOCH 12:\tTrain loss: 0.8347\tVal loss: 1.0856\n",
            "EPOCH 13:\tTrain loss: 0.7516\tVal loss: 1.2434\n",
            "EPOCH 14:\tTrain loss: 0.7517\tVal loss: 1.1668\n",
            "EPOCH 15:\tTrain loss: 0.6912\tVal loss: 1.0218\n",
            "EPOCH 16:\tTrain loss: 0.6782\tVal loss: 1.2999\n",
            "EPOCH 17:\tTrain loss: 0.7004\tVal loss: 1.2297\n",
            "EPOCH 18:\tTrain loss: 0.6166\tVal loss: 1.2573\n",
            "EPOCH 19:\tTrain loss: 0.5960\tVal loss: 1.0884\n",
            "EPOCH 20:\tTrain loss: 0.6458\tVal loss: 1.1330\n",
            "EPOCH 21:\tTrain loss: 0.5474\tVal loss: 1.1999\n",
            "EPOCH 22:\tTrain loss: 0.5362\tVal loss: 1.2471\n",
            "EPOCH 23:\tTrain loss: 0.5203\tVal loss: 1.5938\n",
            "EPOCH 24:\tTrain loss: 0.5668\tVal loss: 1.6385\n",
            "EPOCH 25:\tTrain loss: 0.5221\tVal loss: 2.7860\n"
          ]
        }
      ]
    },
    {
      "cell_type": "code",
      "source": [
        "val_loss, val_acc = evaluate(\n",
        "    model,\n",
        "    val_loader,\n",
        "    criterion,\n",
        "    device\n",
        ")\n",
        "\n",
        "test_loss, test_acc = evaluate(\n",
        "    model,\n",
        "    test_loader,\n",
        "    criterion,\n",
        "    device\n",
        ")\n",
        "\n",
        "print('Evaluation on val/test dataset')\n",
        "print('Val accuracy: ', val_acc)\n",
        "print('Test accuracy: ', test_acc)\n"
      ],
      "metadata": {
        "colab": {
          "base_uri": "https://localhost:8080/"
        },
        "id": "VCnTzG-MS53h",
        "outputId": "1ccf3e60-1e8f-4a0e-c04d-806819a352f0"
      },
      "execution_count": 21,
      "outputs": [
        {
          "output_type": "stream",
          "name": "stdout",
          "text": [
            "Evaluation on val/test dataset\n",
            "Val accuracy:  0.4282592862345229\n",
            "Test accuracy:  0.3915574963609898\n"
          ]
        }
      ]
    },
    {
      "cell_type": "markdown",
      "source": [
        "Q2"
      ],
      "metadata": {
        "id": "aPiDV-Y8tzwP"
      }
    },
    {
      "cell_type": "code",
      "source": [
        "!gdown '1y5mCg3ZXs3tHpzcVoG7AaNLUz8miSl4k'\n",
        "!mkdir data\n",
        "!unzip -q '/content/img_cls_scenes_classification.zip' -d '/content/img_cls_scenes_classification'"
      ],
      "metadata": {
        "colab": {
          "base_uri": "https://localhost:8080/"
        },
        "id": "1TcBpVvAtzPz",
        "outputId": "ac655c2d-a4bf-4fce-aa7e-38f79a6fcf53"
      },
      "execution_count": 22,
      "outputs": [
        {
          "output_type": "stream",
          "name": "stdout",
          "text": [
            "Downloading...\n",
            "From (original): https://drive.google.com/uc?id=1y5mCg3ZXs3tHpzcVoG7AaNLUz8miSl4k\n",
            "From (redirected): https://drive.google.com/uc?id=1y5mCg3ZXs3tHpzcVoG7AaNLUz8miSl4k&confirm=t&uuid=28a3c018-8f7b-4656-81d9-02039cde9e42\n",
            "To: /content/img_cls_scenes_classification.zip\n",
            "100% 255M/255M [00:02<00:00, 111MB/s]\n",
            "mkdir: cannot create directory ‘data’: File exists\n"
          ]
        }
      ]
    },
    {
      "cell_type": "code",
      "source": [
        "import torch\n",
        "import torch.nn as nn\n",
        "import os\n",
        "import random\n",
        "import numpy as np\n",
        "import pandas as pd\n",
        "import matplotlib.pyplot as plt\n",
        "\n",
        "from PIL import Image\n",
        "from torch.utils.data import Dataset, DataLoader\n",
        "from sklearn.model_selection import train_test_split"
      ],
      "metadata": {
        "id": "jxUUel3yuExI"
      },
      "execution_count": 23,
      "outputs": []
    },
    {
      "cell_type": "code",
      "source": [
        "def set_seed(seed):\n",
        "    random.seed(seed)\n",
        "    np.random.seed(seed)\n",
        "    torch.manual_seed(seed)\n",
        "    torch.cuda.manual_seed(seed)\n",
        "    torch.cuda.manual_seed_all(seed)\n",
        "    torch.backends.cudnn.deterministic = True\n",
        "    torch.backends.cudnn.benchmark = False\n",
        "\n",
        "seed = 59\n",
        "set_seed(seed)"
      ],
      "metadata": {
        "id": "KG3sT_9nufby"
      },
      "execution_count": 24,
      "outputs": []
    },
    {
      "cell_type": "code",
      "source": [
        "root_dir = '/content/img_cls_scenes_classification/scenes_classification/'\n",
        "train_dir = os.path.join(root_dir, 'train')\n",
        "test_dir = os.path.join(root_dir, 'val')\n",
        "\n",
        "classes = {\n",
        "    label_idx: class_name\n",
        "    for label_idx, class_name in enumerate(\n",
        "        sorted(os.listdir(train_dir))\n",
        "    )\n",
        "}"
      ],
      "metadata": {
        "id": "Yh-BqAmsugsd"
      },
      "execution_count": 25,
      "outputs": []
    },
    {
      "cell_type": "code",
      "source": [
        "X_train = []\n",
        "y_train = []\n",
        "X_test = []\n",
        "y_test = []\n",
        "\n",
        "for dataset_path in [train_dir, test_dir]:\n",
        "    for label_idx, class_name in classes.items():\n",
        "        class_dir = os.path.join(dataset_path, class_name)\n",
        "        for img_filename in os.listdir(class_dir):\n",
        "            img_path = os.path.join(class_dir, img_filename)\n",
        "            if 'train' in dataset_path:\n",
        "                X_train.append(img_path)\n",
        "                y_train.append(label_idx)\n",
        "            else:\n",
        "                X_test.append(img_path)\n",
        "                y_test.append(label_idx)"
      ],
      "metadata": {
        "id": "sa1soO93uxhD"
      },
      "execution_count": 26,
      "outputs": []
    },
    {
      "cell_type": "code",
      "source": [
        "seed = 0\n",
        "val_size = 0.2\n",
        "is_shuffle = True\n",
        "\n",
        "X_train, X_val, y_train, y_val = train_test_split(\n",
        "    X_train, y_train,\n",
        "    test_size=val_size,\n",
        "    random_state=seed,\n",
        "    shuffle=is_shuffle\n",
        ")"
      ],
      "metadata": {
        "id": "F6t9A2Upuz1T"
      },
      "execution_count": 27,
      "outputs": []
    },
    {
      "cell_type": "code",
      "source": [
        "class ScenesDataset(Dataset):\n",
        "    def __init__(\n",
        "        self,\n",
        "        X, y,\n",
        "        transform=None\n",
        "    ):\n",
        "        self.transform = transform\n",
        "        self.img_paths = X\n",
        "        self.labels = y\n",
        "\n",
        "    def __len__(self):\n",
        "        return len(self.img_paths)\n",
        "\n",
        "    def __getitem__(self, idx):\n",
        "        img_path = self.img_paths[idx]\n",
        "        img = Image.open(img_path).convert(\"RGB\")\n",
        "\n",
        "        if self.transform:\n",
        "            img = self.transform(img)\n",
        "\n",
        "        return img, self.labels[idx]"
      ],
      "metadata": {
        "id": "A5XB5CTau1D1"
      },
      "execution_count": 28,
      "outputs": []
    },
    {
      "cell_type": "code",
      "source": [
        "def transform(img, img_size=(224, 224)):\n",
        "    img = img.resize(img_size)\n",
        "    img = np.array(img)[..., :3]\n",
        "    img = torch.tensor(img).permute(2, 0, 1).float()\n",
        "    normalized_img = img / 255.0\n",
        "    return normalized_img"
      ],
      "metadata": {
        "id": "QHSxRKkYvAeb"
      },
      "execution_count": 29,
      "outputs": []
    },
    {
      "cell_type": "code",
      "source": [
        "train_dataset = ScenesDataset(\n",
        "    X_train, y_train,\n",
        "    transform=transform\n",
        ")\n",
        "\n",
        "val_dataset = ScenesDataset(\n",
        "    X_val, y_val,\n",
        "    transform=transform\n",
        ")\n",
        "\n",
        "test_dataset = ScenesDataset(\n",
        "    X_test, y_test,\n",
        "    transform=transform\n",
        ")"
      ],
      "metadata": {
        "id": "UpFwx4n2vCgP"
      },
      "execution_count": 30,
      "outputs": []
    },
    {
      "cell_type": "code",
      "source": [
        "train_batch_size = 64\n",
        "test_batch_size = 8\n",
        "\n",
        "train_loader = DataLoader(\n",
        "    train_dataset,\n",
        "    batch_size=train_batch_size,\n",
        "    shuffle=True\n",
        ")\n",
        "\n",
        "val_loader = DataLoader(\n",
        "    val_dataset,\n",
        "    batch_size=test_batch_size,\n",
        "    shuffle=False\n",
        ")\n",
        "\n",
        "test_loader = DataLoader(\n",
        "    test_dataset,\n",
        "    batch_size=test_batch_size,\n",
        "    shuffle=False\n",
        ")"
      ],
      "metadata": {
        "id": "_mVL-njyvDt1"
      },
      "execution_count": 31,
      "outputs": []
    },
    {
      "cell_type": "code",
      "source": [
        "class BottleneckBlock(nn.Module):\n",
        "    def __init__(self, in_channels, growth_rate):\n",
        "        super(BottleneckBlock, self).__init__()\n",
        "        self.bn1 = nn.BatchNorm2d(in_channels)\n",
        "        self.conv1 = nn.Conv2d(in_channels, 4 * growth_rate, kernel_size=1, bias=False)\n",
        "        self.bn2 = nn.BatchNorm2d(4 * growth_rate)\n",
        "        self.conv2 = nn.Conv2d(4 * growth_rate, growth_rate, kernel_size=3, padding=1, bias=False)\n",
        "        self.relu = nn.ReLU()\n",
        "\n",
        "    def forward(self, x):\n",
        "        res = x.clone().detach()\n",
        "        x = self.bn1(x)\n",
        "        x = self.relu(x)\n",
        "        x = self.conv1(x)\n",
        "        x = self.bn2(x)\n",
        "        x = self.relu(x)\n",
        "        x = self.conv2(x)\n",
        "        x = torch.cat([res, x], 1)\n",
        "        return x\n",
        "\n",
        "class DenseBlock(nn.Module):\n",
        "    def __init__(self, num_layers, in_channels, growth_rate):\n",
        "        super(DenseBlock, self).__init__()\n",
        "        layers = []\n",
        "        for i in range(num_layers):\n",
        "            layers.append(BottleneckBlock(in_channels + i * growth_rate, growth_rate))\n",
        "        self.block = nn.Sequential(*layers)\n",
        "\n",
        "    def forward(self, x):\n",
        "        return self.block(x)"
      ],
      "metadata": {
        "id": "Ai8gIhv2vEzy"
      },
      "execution_count": 32,
      "outputs": []
    },
    {
      "cell_type": "code",
      "source": [
        "class DenseNet(nn.Module):\n",
        "    def __init__(self, num_blocks, growth_rate, num_classes):\n",
        "        super(DenseNet, self).__init__()\n",
        "        self.conv1 = nn.Conv2d(3, 2 * growth_rate, kernel_size=7, padding=3, stride=2, bias=False)\n",
        "        self.bn1 = nn.BatchNorm2d(2 * growth_rate)\n",
        "        self.pool1 = nn.MaxPool2d(kernel_size=3, stride=2, padding=1)\n",
        "\n",
        "        self.dense_blocks = nn.ModuleList()\n",
        "        in_channels = 2 * growth_rate\n",
        "        for i, num_layers in enumerate(num_blocks):\n",
        "            self.dense_blocks.append(DenseBlock(num_layers, in_channels, growth_rate))\n",
        "            in_channels += num_layers * growth_rate\n",
        "            if i != len(num_blocks) - 1:\n",
        "                out_channels = in_channels // 2\n",
        "                self.dense_blocks.append(nn.Sequential(\n",
        "                    nn.BatchNorm2d(in_channels),\n",
        "                    nn.Conv2d(in_channels, out_channels, kernel_size=1, bias=False),\n",
        "                    nn.AvgPool2d(kernel_size=2, stride=2)\n",
        "                ))\n",
        "                in_channels = out_channels\n",
        "\n",
        "        self.bn2 = nn.BatchNorm2d(in_channels)\n",
        "        self.pool2 = nn.AvgPool2d(kernel_size=7)\n",
        "        self.relu = nn.ReLU()\n",
        "        self.fc = nn.Linear(in_channels, num_classes)\n",
        "\n",
        "    def forward(self, x):\n",
        "        x = self.conv1(x)\n",
        "        x = self.bn1(x)\n",
        "        x = self.relu(x)\n",
        "        x = self.pool1(x)\n",
        "\n",
        "        for block in self.dense_blocks:\n",
        "            x = block(x)\n",
        "\n",
        "        x = self.bn2(x)\n",
        "        x = self.relu(x)\n",
        "        x = self.pool2(x)\n",
        "        x = x.view(x.size(0), -1)\n",
        "        x = self.fc(x)\n",
        "\n",
        "        return x"
      ],
      "metadata": {
        "id": "E-XpqbTzvRv6"
      },
      "execution_count": 33,
      "outputs": []
    },
    {
      "cell_type": "code",
      "source": [
        "n_classes = len(list(classes.keys()))\n",
        "device = 'cuda' if torch.cuda.is_available() else 'cpu'\n",
        "\n",
        "model = DenseNet(\n",
        "    [6, 12, 24, 16],\n",
        "    growth_rate=32,\n",
        "    num_classes=n_classes\n",
        ").to(device)"
      ],
      "metadata": {
        "id": "rz66V0mQvTab"
      },
      "execution_count": 34,
      "outputs": []
    },
    {
      "cell_type": "code",
      "source": [
        "lr = 1e-2\n",
        "epochs = 15\n",
        "\n",
        "criterion = nn.CrossEntropyLoss()\n",
        "optimizer = torch.optim.SGD(\n",
        "    model.parameters(),\n",
        "    lr=lr\n",
        ")"
      ],
      "metadata": {
        "id": "nRon8EgevdiL"
      },
      "execution_count": 35,
      "outputs": []
    },
    {
      "cell_type": "code",
      "source": [
        "train_losses, val_losses = fit(\n",
        "    model,\n",
        "    train_loader,\n",
        "    val_loader,\n",
        "    criterion,\n",
        "    optimizer,\n",
        "    device,\n",
        "    epochs\n",
        ")"
      ],
      "metadata": {
        "colab": {
          "base_uri": "https://localhost:8080/"
        },
        "id": "3PdG1TD6velr",
        "outputId": "6f5875f4-17bf-45fe-9121-3034ad54805c"
      },
      "execution_count": 36,
      "outputs": [
        {
          "output_type": "stream",
          "name": "stdout",
          "text": [
            "EPOCH 1:\tTrain loss: 1.4412\tVal loss: 1.2718\n",
            "EPOCH 2:\tTrain loss: 1.2072\tVal loss: 1.1645\n",
            "EPOCH 3:\tTrain loss: 1.1207\tVal loss: 1.1031\n",
            "EPOCH 4:\tTrain loss: 1.0667\tVal loss: 1.0467\n",
            "EPOCH 5:\tTrain loss: 1.0133\tVal loss: 0.9994\n",
            "EPOCH 6:\tTrain loss: 0.9686\tVal loss: 0.9546\n",
            "EPOCH 7:\tTrain loss: 0.9270\tVal loss: 0.9091\n",
            "EPOCH 8:\tTrain loss: 0.8798\tVal loss: 0.8740\n",
            "EPOCH 9:\tTrain loss: 0.8445\tVal loss: 0.8496\n",
            "EPOCH 10:\tTrain loss: 0.8123\tVal loss: 0.8096\n",
            "EPOCH 11:\tTrain loss: 0.7811\tVal loss: 0.7854\n",
            "EPOCH 12:\tTrain loss: 0.7509\tVal loss: 0.7609\n",
            "EPOCH 13:\tTrain loss: 0.7240\tVal loss: 0.7788\n",
            "EPOCH 14:\tTrain loss: 0.6849\tVal loss: 0.7554\n",
            "EPOCH 15:\tTrain loss: 0.6556\tVal loss: 0.6792\n"
          ]
        }
      ]
    },
    {
      "cell_type": "code",
      "source": [
        "val_loss, val_acc = evaluate(\n",
        "    model,\n",
        "    val_loader,\n",
        "    criterion,\n",
        "    device\n",
        ")\n",
        "\n",
        "test_loss, test_acc = evaluate(\n",
        "    model,\n",
        "    test_loader,\n",
        "    criterion,\n",
        "    device\n",
        ")\n",
        "\n",
        "print('Evaluation on val/test dataset')\n",
        "print('Val accuracy: ', val_acc)\n",
        "print('Test accuracy: ', test_acc)"
      ],
      "metadata": {
        "colab": {
          "base_uri": "https://localhost:8080/"
        },
        "id": "1vLyJWoQvfbw",
        "outputId": "988a378c-5f5a-4cf5-befc-3eaece1ce2e9"
      },
      "execution_count": 37,
      "outputs": [
        {
          "output_type": "stream",
          "name": "stdout",
          "text": [
            "Evaluation on val/test dataset\n",
            "Val accuracy:  0.7584609903811899\n",
            "Test accuracy:  0.743\n"
          ]
        }
      ]
    }
  ]
}