{
 "cells": [
  {
   "cell_type": "code",
   "execution_count": 1,
   "metadata": {},
   "outputs": [],
   "source": [
    "import numpy as np"
   ]
  },
  {
   "cell_type": "code",
   "execution_count": 2,
   "metadata": {},
   "outputs": [],
   "source": [
    "# 1.1. Length of a vector\n",
    "def compute_vector_length(vector):\n",
    "    len_of_vector = np.linalg.norm(vector)\n",
    "    return len_of_vector\n",
    "\n",
    "# 1.2. Dot product\n",
    "def compute_dot_product(vector1, vector2):\n",
    "    result = np.dot(vector1, vector2)\n",
    "    return result\n",
    "\n",
    "# 1.3. Multiplying a vector by a matrix\n",
    "def matrix_multi_vector(matrix, vector):\n",
    "    result = np.dot(matrix, vector)\n",
    "    return result\n",
    "\n",
    "# 1.4. Multiplying a matrix by a matrix\n",
    "def matrix_multi_matrix(matrix1, matrix2):\n",
    "    result = np.dot(matrix1, matrix2)\n",
    "    return result\n",
    "\n",
    "# 1.5 Matrix inverse\n",
    "def inverse_matrix(matrix):\n",
    "    result = np.linalg.inv(matrix)\n",
    "    return result\n",
    "\n",
    "# 2.1 Eigenvector and eigenvalue\n",
    "def compute_eigenvalues_eigenvectors(matrix):\n",
    "    eigenvalues, eigenvectors = np.linalg.eig(matrix)\n",
    "    return eigenvalues, eigenvectors\n",
    "\n",
    "# 3.1. Cosine Similarity\n",
    "def compute_cosine(v1, v2):\n",
    "    cos_sim = np.dot(v1, v2)/(np.linalg.norm(v1)*np.linalg.norm(v2))\n",
    "    return cos_sim"
   ]
  },
  {
   "cell_type": "code",
   "execution_count": 7,
   "metadata": {},
   "outputs": [],
   "source": [
    "import cv2\n",
    "\n",
    "bg1_image = cv2.imread('GreenBackground.png', 1)\n",
    "bg1_image = cv2.resize(bg1_image, (678, 381))\n",
    "\n",
    "ob_image = cv2.imread('Object.png', 1)\n",
    "ob_image = cv2.resize(ob_image, (678, 381))\n",
    "\n",
    "bg2_image = cv2.imread('NewBackground.jpg', 1)\n",
    "bg2_image = cv2.resize(bg2_image, (678, 381))"
   ]
  },
  {
   "cell_type": "code",
   "execution_count": 8,
   "metadata": {},
   "outputs": [],
   "source": [
    "def compute_difference(bg_img, input_img):\n",
    "    difference = cv2.absdiff(bg_img, input_img)\n",
    "    difference_single_channel = cv2.cvtColor(difference, cv2.COLOR_BGR2GRAY)\n",
    "    return difference_single_channel\n",
    "\n",
    "# Display difference\n",
    "difference_single_channel = compute_difference(bg1_image, ob_image)\n",
    "difference_single_channel = compute_difference(bg1_image, ob_image)\n",
    "cv2.imshow('Difference', difference_single_channel)\n",
    "cv2.waitKey(0)\n",
    "cv2.destroyAllWindows()"
   ]
  },
  {
   "cell_type": "code",
   "execution_count": 9,
   "metadata": {},
   "outputs": [],
   "source": [
    "def compute_binary_mask(difference_single_channel):\n",
    "    _, difference_binary = cv2.threshold(difference_single_channel, 50, 255, cv2.THRESH_BINARY)\n",
    "    return difference_binary\n",
    "\n",
    "# Display binary mask\n",
    "binary_mask = compute_binary_mask(difference_single_channel)\n",
    "cv2.imshow('Binary Mask', binary_mask)\n",
    "cv2.waitKey(0)\n",
    "cv2.destroyAllWindows()"
   ]
  },
  {
   "cell_type": "code",
   "execution_count": 10,
   "metadata": {},
   "outputs": [],
   "source": [
    "def replace_background(bg1_image, bg2_image, ob_image):\n",
    "    difference_single_channel = compute_difference(bg1_image, ob_image)\n",
    "    binary_mask = compute_binary_mask(difference_single_channel)\n",
    "    output = np.where(binary_mask[..., None] == 255, ob_image, bg2_image)\n",
    "    return output\n",
    "\n",
    "# Display final result\n",
    "output_image = replace_background(bg1_image, bg2_image, ob_image)\n",
    "cv2.imshow('Final Output', output_image)\n",
    "cv2.waitKey(0)\n",
    "cv2.destroyAllWindows()"
   ]
  },
  {
   "cell_type": "markdown",
   "metadata": {},
   "source": [
    "Multiple choice"
   ]
  },
  {
   "cell_type": "markdown",
   "metadata": {},
   "source": [
    "Q1"
   ]
  },
  {
   "cell_type": "code",
   "execution_count": 11,
   "metadata": {},
   "outputs": [
    {
     "name": "stdout",
     "output_type": "stream",
     "text": [
      "23.28\n"
     ]
    }
   ],
   "source": [
    "vector = np.array([-2, 4, 9, 21])\n",
    "result = compute_vector_length(vector)\n",
    "print(round(result, 2))"
   ]
  },
  {
   "cell_type": "markdown",
   "metadata": {},
   "source": [
    "Q2"
   ]
  },
  {
   "cell_type": "code",
   "execution_count": 12,
   "metadata": {},
   "outputs": [
    {
     "name": "stdout",
     "output_type": "stream",
     "text": [
      "4\n"
     ]
    }
   ],
   "source": [
    "v1 = np.array([0, 1, -1, 2])\n",
    "v2 = np.array([2, 5, 1, 0])\n",
    "result = compute_dot_product(v1, v2)\n",
    "print(round(result, 2))"
   ]
  },
  {
   "cell_type": "markdown",
   "metadata": {},
   "source": [
    "Q3"
   ]
  },
  {
   "cell_type": "code",
   "execution_count": 13,
   "metadata": {},
   "outputs": [
    {
     "name": "stdout",
     "output_type": "stream",
     "text": [
      "result\n",
      " [ 5 11]\n"
     ]
    }
   ],
   "source": [
    "x = np.array([[1, 2], [3, 4]])\n",
    "k = np.array([1, 2])\n",
    "print('result\\n', x.dot(k))"
   ]
  },
  {
   "cell_type": "markdown",
   "metadata": {},
   "source": [
    "Q4"
   ]
  },
  {
   "cell_type": "code",
   "execution_count": 14,
   "metadata": {},
   "outputs": [
    {
     "name": "stdout",
     "output_type": "stream",
     "text": [
      "result\n",
      " [ 3 -5]\n"
     ]
    }
   ],
   "source": [
    "x = np.array([[-1, 2], [3, -4]])\n",
    "k = np.array([1, 2])\n",
    "print('result\\n', x @ k)"
   ]
  },
  {
   "cell_type": "markdown",
   "metadata": {},
   "source": [
    "Q5"
   ]
  },
  {
   "cell_type": "code",
   "execution_count": 15,
   "metadata": {},
   "outputs": [
    {
     "name": "stdout",
     "output_type": "stream",
     "text": [
      "[3 1]\n"
     ]
    }
   ],
   "source": [
    "m = np.array([[-1, 1, 1], [0, -4, 9]])\n",
    "v = np.array([0, 2, 1])\n",
    "result = matrix_multi_vector(m, v)\n",
    "print(result)"
   ]
  },
  {
   "cell_type": "markdown",
   "metadata": {},
   "source": [
    "Q6"
   ]
  },
  {
   "cell_type": "code",
   "execution_count": 17,
   "metadata": {},
   "outputs": [
    {
     "name": "stdout",
     "output_type": "stream",
     "text": [
      "[[  6  -1]\n",
      " [-16 -10]]\n"
     ]
    }
   ],
   "source": [
    "m1 = np.array([[0, 1, 2], [2, -3, 1]])\n",
    "m2 = np.array([[1, -3], [6, 1], [0, -1]])\n",
    "result = matrix_multi_matrix(m1, m2)\n",
    "print(result)"
   ]
  },
  {
   "cell_type": "markdown",
   "metadata": {},
   "source": [
    "Q7"
   ]
  },
  {
   "cell_type": "code",
   "execution_count": 18,
   "metadata": {},
   "outputs": [
    {
     "name": "stdout",
     "output_type": "stream",
     "text": [
      "[[1. 1. 1.]\n",
      " [2. 2. 2.]\n",
      " [3. 3. 3.]]\n"
     ]
    }
   ],
   "source": [
    "m1 = np.eye(3)\n",
    "m2 = np.array([[1, 1, 1], [2, 2, 2], [3, 3, 3]])\n",
    "result = m1 @ m2\n",
    "print(result)"
   ]
  },
  {
   "cell_type": "markdown",
   "metadata": {},
   "source": [
    "Q8"
   ]
  },
  {
   "cell_type": "code",
   "execution_count": 19,
   "metadata": {},
   "outputs": [
    {
     "name": "stdout",
     "output_type": "stream",
     "text": [
      "[5. 5. 5. 5.]\n"
     ]
    }
   ],
   "source": [
    "m1 = np.eye(2)\n",
    "m1 = np.reshape(m1, (-1, 4))[0]\n",
    "m2 = np.array([[1, 1, 1, 1], [2, 2, 2, 2], [3, 3, 3, 3], [4, 4, 4, 4]])\n",
    "result = m1 @ m2\n",
    "print(result)"
   ]
  },
  {
   "cell_type": "markdown",
   "metadata": {},
   "source": [
    "Q9"
   ]
  },
  {
   "cell_type": "code",
   "execution_count": 20,
   "metadata": {},
   "outputs": [
    {
     "name": "stdout",
     "output_type": "stream",
     "text": [
      "[29 29 29 29]\n"
     ]
    }
   ],
   "source": [
    "m1 = np.array([[1, 2], [3, 4]])\n",
    "m1 = np.reshape(m1, (-1, 4), \"F\")[0]\n",
    "m2 = np.array([[1, 1, 1, 1], [2, 2, 2, 2], [3, 3, 3, 3], [4, 4, 4, 4]])\n",
    "result = m1 @ m2\n",
    "print(result)"
   ]
  },
  {
   "cell_type": "markdown",
   "metadata": {},
   "source": [
    "Q10"
   ]
  },
  {
   "cell_type": "code",
   "execution_count": 21,
   "metadata": {},
   "outputs": [
    {
     "name": "stdout",
     "output_type": "stream",
     "text": [
      "[[0.1  0.15]\n",
      " [0.2  0.05]]\n"
     ]
    }
   ],
   "source": [
    "m1 = np.array([[-2, 6], [8, -4]])\n",
    "result = inverse_matrix(m1)\n",
    "print(result)"
   ]
  },
  {
   "cell_type": "markdown",
   "metadata": {},
   "source": [
    "Q11"
   ]
  },
  {
   "cell_type": "code",
   "execution_count": 22,
   "metadata": {},
   "outputs": [
    {
     "name": "stdout",
     "output_type": "stream",
     "text": [
      "[[ 0.89442719 -0.70710678]\n",
      " [ 0.4472136   0.70710678]]\n"
     ]
    }
   ],
   "source": [
    "matrix = np.array([[0.9, 0.2], [0.1, 0.8]])\n",
    "eigenvalues, eigenvectors = compute_eigenvalues_eigenvectors(matrix)\n",
    "print(eigenvectors)"
   ]
  },
  {
   "cell_type": "markdown",
   "metadata": {},
   "source": [
    "Q12"
   ]
  },
  {
   "cell_type": "code",
   "execution_count": 23,
   "metadata": {},
   "outputs": [
    {
     "name": "stdout",
     "output_type": "stream",
     "text": [
      "0.577\n"
     ]
    }
   ],
   "source": [
    "x = np.array([1, 2, 3, 4])\n",
    "y = np.array([1, 0, 3, 0])\n",
    "result = compute_cosine(x, y)\n",
    "print(round(result, 3))"
   ]
  }
 ],
 "metadata": {
  "kernelspec": {
   "display_name": "fptu",
   "language": "python",
   "name": "python3"
  },
  "language_info": {
   "codemirror_mode": {
    "name": "ipython",
    "version": 3
   },
   "file_extension": ".py",
   "mimetype": "text/x-python",
   "name": "python",
   "nbconvert_exporter": "python",
   "pygments_lexer": "ipython3",
   "version": "3.8.19"
  }
 },
 "nbformat": 4,
 "nbformat_minor": 2
}
