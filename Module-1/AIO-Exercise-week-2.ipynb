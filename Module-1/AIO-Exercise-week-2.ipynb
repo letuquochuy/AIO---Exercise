{
 "cells": [
  {
   "cell_type": "code",
   "execution_count": null,
   "metadata": {},
   "outputs": [],
   "source": [
    "def max_sliding_windown(num_list, k):\n",
    "    result = []\n",
    "    for i in range(len(num_list) - k +1):\n",
    "        windown = num_list[i : i+k]\n",
    "        max_number = max(windown)\n",
    "        result.append(max_number)\n",
    "    return result\n",
    "\n",
    "def exercise_1():\n",
    "\n",
    "    num_list = list(map(float, input('Enter the list').split()))\n",
    "    k = int(input('Enter the size of sliding windown'))\n",
    "    if k == 0 or k > len(num_list):\n",
    "        print('Invalid size')\n",
    "    else:\n",
    "        result = max_sliding_windown(num_list, k)\n",
    "        print(result)\n",
    "\n",
    "exercise_1()\n"
   ]
  },
  {
   "cell_type": "code",
   "execution_count": null,
   "metadata": {},
   "outputs": [],
   "source": [
    "def count_chars(string):\n",
    "    char_count = {}   \n",
    "    for char in string:\n",
    "        char = char.lower()\n",
    "        if char in char_count:\n",
    "            char_count[char] += 1\n",
    "        else:\n",
    "            char_count[char] = 1\n",
    "    return char_count\n",
    "\n",
    "string1 = 'Happiness'\n",
    "print(count_chars(string1))\n",
    "\n",
    "string2 = 'smiles'\n",
    "print(count_chars(string2))\n"
   ]
  },
  {
   "cell_type": "code",
   "execution_count": null,
   "metadata": {},
   "outputs": [],
   "source": [
    "def word_count(file_path):\n",
    "    word_count_dict = {}\n",
    "    with open(file_path, 'r') as file:\n",
    "        for line in file:\n",
    "            words = line.lower().split()\n",
    "            for word in words:\n",
    "                if word in word_count_dict:\n",
    "                    word_count_dict[word] += 1\n",
    "                else:\n",
    "                    word_count_dict[word] = 1\n",
    "    return word_count_dict\n",
    "\n",
    "def exercise_3(word_count_dict):\n",
    "    print('{')\n",
    "    for word, count in word_count_dict.items():\n",
    "        print(f\"'{word}': {count},\")\n",
    "    print('}')\n",
    "\n",
    "file_path = 'P1_data.txt'\n",
    "word_count_result = word_count(file_path)\n",
    "exercise_3(word_count_result)\n",
    "result = word_count( file_path )\n",
    "print ( result ['man'])\n"
   ]
  },
  {
   "cell_type": "code",
   "execution_count": 6,
   "metadata": {},
   "outputs": [
    {
     "name": "stdout",
     "output_type": "stream",
     "text": [
      " Levenshtein distance between 'hola' and 'hello' is: 3\n"
     ]
    }
   ],
   "source": [
    "def levenshtein_distance(source, target):\n",
    "    del_cost = ins_cost = sub_cost = 1\n",
    "    m = len(source)\n",
    "    n = len(target)\n",
    "    D = [[0] * (n + 1) for _ in range(m + 1)]\n",
    "    for i in range(1, m + 1):\n",
    "        D[i][0] = i\n",
    "    for j in range(1, n + 1):\n",
    "        D[0][j] = j\n",
    "    for i in range(1, m + 1):\n",
    "        for j in range(1, n + 1):\n",
    "            if source[i - 1] == target[j - 1]:\n",
    "                cost = 0  \n",
    "            else:\n",
    "                cost = sub_cost  \n",
    "            D[i][j] = min(\n",
    "                D[i - 1][j] + del_cost,     \n",
    "                D[i][j - 1] + ins_cost,    \n",
    "                D[i - 1][j - 1] + cost    \n",
    "            )\n",
    "    return D[m][n]\n",
    "\n",
    "source = 'hola'\n",
    "target = 'hello'\n",
    "print(f\" Levenshtein distance between '{source}' and '{target}' is: {levenshtein_distance(source, target)}\")\n"
   ]
  }
 ],
 "metadata": {
  "kernelspec": {
   "display_name": "Python 3",
   "language": "python",
   "name": "python3"
  },
  "language_info": {
   "codemirror_mode": {
    "name": "ipython",
    "version": 3
   },
   "file_extension": ".py",
   "mimetype": "text/x-python",
   "name": "python",
   "nbconvert_exporter": "python",
   "pygments_lexer": "ipython3",
   "version": "3.8.18"
  }
 },
 "nbformat": 4,
 "nbformat_minor": 2
}
