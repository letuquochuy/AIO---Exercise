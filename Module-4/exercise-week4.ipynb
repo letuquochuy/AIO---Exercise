{
 "cells": [
  {
   "cell_type": "code",
   "execution_count": 55,
   "metadata": {},
   "outputs": [],
   "source": [
    "import numpy as np\n",
    "import pandas as pd\n",
    "from sklearn.model_selection import train_test_split\n",
    "from sklearn.preprocessing import StandardScaler\n",
    "from sklearn.preprocessing import PolynomialFeatures\n",
    "from sklearn.linear_model import LinearRegression\n",
    "from sklearn.metrics import r2_score"
   ]
  },
  {
   "cell_type": "code",
   "execution_count": 56,
   "metadata": {},
   "outputs": [],
   "source": [
    "def r2score(y_pred, y):\n",
    "    rss = np.sum((y_pred - y) ** 2)\n",
    "    tss = np.sum((y - y.mean()) ** 2)\n",
    "    r2 = 1 - (rss / tss)\n",
    "    return r2"
   ]
  },
  {
   "cell_type": "code",
   "execution_count": 57,
   "metadata": {},
   "outputs": [
    {
     "data": {
      "text/plain": [
       "1.0"
      ]
     },
     "execution_count": 57,
     "metadata": {},
     "output_type": "execute_result"
    }
   ],
   "source": [
    "y_pred = np.array([1, 2, 3, 4, 5])\n",
    "y = np.array([1, 2, 3, 4, 5])\n",
    "r2score(y_pred, y)"
   ]
  },
  {
   "cell_type": "code",
   "execution_count": 58,
   "metadata": {},
   "outputs": [
    {
     "data": {
      "text/plain": [
       "-2.235294117647059"
      ]
     },
     "execution_count": 58,
     "metadata": {},
     "output_type": "execute_result"
    }
   ],
   "source": [
    "y_pred = np.array([1, 2, 3, 4, 5])\n",
    "y = np.array([3, 5, 5, 2, 4])\n",
    "r2score(y_pred, y)"
   ]
  },
  {
   "cell_type": "code",
   "execution_count": 59,
   "metadata": {},
   "outputs": [
    {
     "data": {
      "text/plain": [
       "array([[1, 1],\n",
       "       [2, 4],\n",
       "       [3, 9]])"
      ]
     },
     "execution_count": 59,
     "metadata": {},
     "output_type": "execute_result"
    }
   ],
   "source": [
    "def create_polynomial_features(X, degree=2):\n",
    "    X_new = X\n",
    "    for d in range(2, degree + 1):\n",
    "        X_new = np.c_[X_new, np.power(X, d)]\n",
    "    return X_new\n",
    "\n",
    "X = np.array([[1], [2], [3]])\n",
    "create_polynomial_features(X, degree=2)"
   ]
  },
  {
   "cell_type": "code",
   "execution_count": 60,
   "metadata": {},
   "outputs": [
    {
     "data": {
      "text/plain": [
       "array([[ 1,  1,  2,  4],\n",
       "       [ 2,  4,  3,  9],\n",
       "       [ 3,  9,  4, 16]])"
      ]
     },
     "execution_count": 60,
     "metadata": {},
     "output_type": "execute_result"
    }
   ],
   "source": [
    "def create_polynomial_features(X, degree=2):\n",
    "    X_mem = []\n",
    "    for X_sub in X.T:\n",
    "        X_new = X_sub.reshape(-1, 1)\n",
    "        for d in range(2, degree + 1):\n",
    "            X_new = np.c_[X_new, np.power(X_sub, d).reshape(-1, 1)]\n",
    "        X_mem.append(X_new)\n",
    "    return np.hstack(X_mem)\n",
    "\n",
    "X = np.array([[1, 2], [2, 3], [3, 4]])\n",
    "X_poly = create_polynomial_features(X, degree=2)\n",
    "X_poly\n"
   ]
  },
  {
   "cell_type": "code",
   "execution_count": 61,
   "metadata": {},
   "outputs": [
    {
     "data": {
      "text/html": [
       "<div>\n",
       "<style scoped>\n",
       "    .dataframe tbody tr th:only-of-type {\n",
       "        vertical-align: middle;\n",
       "    }\n",
       "\n",
       "    .dataframe tbody tr th {\n",
       "        vertical-align: top;\n",
       "    }\n",
       "\n",
       "    .dataframe thead th {\n",
       "        text-align: right;\n",
       "    }\n",
       "</style>\n",
       "<table border=\"1\" class=\"dataframe\">\n",
       "  <thead>\n",
       "    <tr style=\"text-align: right;\">\n",
       "      <th></th>\n",
       "      <th>TV</th>\n",
       "      <th>Radio</th>\n",
       "      <th>Social Media</th>\n",
       "      <th>Sales</th>\n",
       "      <th>Influencer_Macro</th>\n",
       "      <th>Influencer_Mega</th>\n",
       "      <th>Influencer_Micro</th>\n",
       "      <th>Influencer_Nano</th>\n",
       "    </tr>\n",
       "  </thead>\n",
       "  <tbody>\n",
       "    <tr>\n",
       "      <th>0</th>\n",
       "      <td>16.0</td>\n",
       "      <td>6.566231</td>\n",
       "      <td>2.907983</td>\n",
       "      <td>54.732757</td>\n",
       "      <td>False</td>\n",
       "      <td>True</td>\n",
       "      <td>False</td>\n",
       "      <td>False</td>\n",
       "    </tr>\n",
       "    <tr>\n",
       "      <th>1</th>\n",
       "      <td>13.0</td>\n",
       "      <td>9.237765</td>\n",
       "      <td>2.409567</td>\n",
       "      <td>46.677897</td>\n",
       "      <td>False</td>\n",
       "      <td>True</td>\n",
       "      <td>False</td>\n",
       "      <td>False</td>\n",
       "    </tr>\n",
       "    <tr>\n",
       "      <th>2</th>\n",
       "      <td>41.0</td>\n",
       "      <td>15.886446</td>\n",
       "      <td>2.913410</td>\n",
       "      <td>150.177829</td>\n",
       "      <td>False</td>\n",
       "      <td>True</td>\n",
       "      <td>False</td>\n",
       "      <td>False</td>\n",
       "    </tr>\n",
       "    <tr>\n",
       "      <th>3</th>\n",
       "      <td>83.0</td>\n",
       "      <td>30.020028</td>\n",
       "      <td>6.922304</td>\n",
       "      <td>298.246340</td>\n",
       "      <td>False</td>\n",
       "      <td>True</td>\n",
       "      <td>False</td>\n",
       "      <td>False</td>\n",
       "    </tr>\n",
       "    <tr>\n",
       "      <th>4</th>\n",
       "      <td>15.0</td>\n",
       "      <td>8.437408</td>\n",
       "      <td>1.405998</td>\n",
       "      <td>56.594181</td>\n",
       "      <td>False</td>\n",
       "      <td>False</td>\n",
       "      <td>True</td>\n",
       "      <td>False</td>\n",
       "    </tr>\n",
       "  </tbody>\n",
       "</table>\n",
       "</div>"
      ],
      "text/plain": [
       "     TV      Radio  Social Media       Sales  Influencer_Macro  \\\n",
       "0  16.0   6.566231      2.907983   54.732757             False   \n",
       "1  13.0   9.237765      2.409567   46.677897             False   \n",
       "2  41.0  15.886446      2.913410  150.177829             False   \n",
       "3  83.0  30.020028      6.922304  298.246340             False   \n",
       "4  15.0   8.437408      1.405998   56.594181             False   \n",
       "\n",
       "   Influencer_Mega  Influencer_Micro  Influencer_Nano  \n",
       "0             True             False            False  \n",
       "1             True             False            False  \n",
       "2             True             False            False  \n",
       "3             True             False            False  \n",
       "4            False              True            False  "
      ]
     },
     "execution_count": 61,
     "metadata": {},
     "output_type": "execute_result"
    }
   ],
   "source": [
    "data = pd.read_csv('SalesPrediction.csv')\n",
    "df = pd.get_dummies(data)\n",
    "df.head()"
   ]
  },
  {
   "cell_type": "code",
   "execution_count": 62,
   "metadata": {},
   "outputs": [],
   "source": [
    "df = df.fillna(df.mean())\n",
    "\n",
    "X = df[['TV', 'Radio', 'Social Media', 'Influencer_Macro', 'Influencer_Mega', \n",
    "        'Influencer_Micro', 'Influencer_Nano']]\n",
    "y = df[['Sales']]\n",
    "\n",
    "X_train, X_test, y_train, y_test = train_test_split(\n",
    "    X,\n",
    "    y,\n",
    "    test_size=0.33,\n",
    "    random_state=0\n",
    ")"
   ]
  },
  {
   "cell_type": "code",
   "execution_count": 63,
   "metadata": {},
   "outputs": [
    {
     "data": {
      "text/plain": [
       "53.850231941683234"
      ]
     },
     "execution_count": 63,
     "metadata": {},
     "output_type": "execute_result"
    }
   ],
   "source": [
    "scaler = StandardScaler()\n",
    "X_train_processed = scaler.fit_transform(X_train)\n",
    "X_test_processed = scaler.fit_transform(X_test)\n",
    "scaler.mean_[0]"
   ]
  },
  {
   "cell_type": "code",
   "execution_count": 64,
   "metadata": {},
   "outputs": [
    {
     "name": "stdout",
     "output_type": "stream",
     "text": [
      "R^2 score for the polynomial regression model: -2.8146157667846324e+20\n"
     ]
    }
   ],
   "source": [
    "poly_features = PolynomialFeatures(degree=2)\n",
    "X_train_poly = poly_features.fit_transform(X_train_processed)\n",
    "X_test_poly = poly_features.transform(X_test_processed)\n",
    "\n",
    "# Initialize and train the linear regression model\n",
    "poly_model = LinearRegression()\n",
    "poly_model.fit(X_train_poly, y_train)\n",
    "\n",
    "# Make predictions on the test set\n",
    "preds = poly_model.predict(X_test_poly)\n",
    "\n",
    "# Evaluate the model with R^2 score\n",
    "r2 = r2_score(y_test, preds)\n",
    "print(\"R^2 score for the polynomial regression model:\", r2)\n"
   ]
  }
 ],
 "metadata": {
  "kernelspec": {
   "display_name": "fptu",
   "language": "python",
   "name": "python3"
  },
  "language_info": {
   "codemirror_mode": {
    "name": "ipython",
    "version": 3
   },
   "file_extension": ".py",
   "mimetype": "text/x-python",
   "name": "python",
   "nbconvert_exporter": "python",
   "pygments_lexer": "ipython3",
   "version": "3.8.19"
  }
 },
 "nbformat": 4,
 "nbformat_minor": 2
}
